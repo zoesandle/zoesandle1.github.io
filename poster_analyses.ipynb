{
 "cells": [
  {
   "cell_type": "markdown",
   "id": "e0b94f2c",
   "metadata": {},
   "source": [
    "#### Analyses of CU/Psychopathic trait subgroup for latent variable modeling systematic review\n",
    "\n",
    "Updated with Winters (2025 study)\n",
    "\n",
    "This document includes all analyses that I did for the Poster Presentation at the SSSP ECE 2025. \n",
    "\n",
    "1. study descriptives (years, models, breakdwon of variables and scales), including sankey plots\n",
    "2. chi square/contingency table tests for differences in these groups\n",
    "3. analyses of most frequent models (LPA/LCA; EFA/CFA/SEM; growth models) and the use of variables (directionalities)\n",
    "\n"
   ]
  },
  {
   "cell_type": "code",
   "execution_count": 1,
   "id": "c44f3c67",
   "metadata": {},
   "outputs": [
    {
     "name": "stdout",
     "output_type": "stream",
     "text": [
      "   Unnamed: 0.1  Unnamed: 0  index  \\\n",
      "0           NaN         NaN      1   \n",
      "1           0.0         0.0      2   \n",
      "2           1.0         1.0      3   \n",
      "3           2.0         2.0      4   \n",
      "4           3.0         3.0      5   \n",
      "\n",
      "                                                name   f_author  year  \\\n",
      "0  Executive function and underlying brain networ...    Winters  2025   \n",
      "1  A latent class analysis of cognitive-affective...  Ciesenski  2024   \n",
      "2  The Inventory of Callous-Unemotional Traits (I...       Kemp  2024   \n",
      "3  Callous-unemotional traits moderate the associ...   Castagna  2024   \n",
      "4  Cognitive and social-cognitive factors as medi...       Cohn  2024   \n",
      "\n",
      "                                         all_authors  \\\n",
      "0  Drew Winters, Jules Dugré, Joseph Sakai, R. Mc...   \n",
      "1  Ciesinski, Nicole K.; Mccloskey, Michael S.; C...   \n",
      "2  Emily C. Kemp, James V. Ray, Paul J. Frick, La...   \n",
      "3  Peter J. Castagna, Dara E. Babinski, Daniel A....   \n",
      "4                 Jonathan R. Cohn & David C. Cicero   \n",
      "\n",
      "                                  journal  journal_5_y_if  \\\n",
      "0        PSYCHIATRY RESEARCH-NEUROIMAGING             2.1   \n",
      "1          Journal of Affective Disorders             5.4   \n",
      "2                Psychological Assessment             4.9   \n",
      "3  European Child & Adolescent Psychiatry             5.5   \n",
      "4                 Psychology, Crime & Law             1.5   \n",
      "\n",
      "                            Name_dataset  ... gm_counts mit_counts  \\\n",
      "0  Nathan Kline Institute Rockland study  ...       NaN        NaN   \n",
      "1                                    NaN  ...       1.0        1.0   \n",
      "2                       Crossroads Study  ...       1.0        2.0   \n",
      "3                                    NaN  ...       1.0        1.0   \n",
      "4                                    NaN  ...       1.0        1.0   \n",
      "\n",
      "   cog_counts beh_counts atool_counts ctool_counts btool_counts  \\\n",
      "0         NaN        NaN          NaN          NaN          NaN   \n",
      "1         1.0        1.0          1.0          1.0          3.0   \n",
      "2         0.0        1.0          1.0          0.0          2.0   \n",
      "3         1.0        1.0          1.0          1.0          1.0   \n",
      "4         1.0        1.0          1.0          3.0          2.0   \n",
      "\n",
      "   amodality_counts  cmodality_counts bmodality_counts  \n",
      "0               NaN               NaN              NaN  \n",
      "1               1.0               0.0              1.0  \n",
      "2               1.0               0.0              2.0  \n",
      "3               1.0               1.0              1.0  \n",
      "4               1.0               1.0              1.0  \n",
      "\n",
      "[5 rows x 85 columns]\n"
     ]
    }
   ],
   "source": [
    "### read in data and activate the environmentimport pandas as pd\n",
    "import numpy as np\n",
    "import matplotlib.pyplot as plt\n",
    "import seaborn as sns\n",
    "import statsmodels.api as sm\n",
    "import statsmodels.formula.api as smf\n",
    "import pandas as pd\n",
    "import plotly.graph_objects as go\n",
    "\n",
    "#setting wd to where the data is\n",
    "import os\n",
    "os.chdir('C:/Users/U727148/Desktop/DATA/REVIEW/')\n",
    "#reading in data\n",
    "df = pd.read_excel('updated_from_cleaned_20250423.xlsx')\n",
    "#checking the data\n",
    "print(df.head())\n",
    "\n"
   ]
  },
  {
   "cell_type": "code",
   "execution_count": 2,
   "id": "4c065e76",
   "metadata": {},
   "outputs": [
    {
     "name": "stdout",
     "output_type": "stream",
     "text": [
      "Mean age of the sample:  20.83530985915493\n",
      "Weighted mean age of the sample:  17.759201942220958\n"
     ]
    }
   ],
   "source": [
    "#making the mean age\n",
    "df['age_mean_numeric'] = pd.to_numeric(df['age_mean'], errors='coerce')\n",
    "mean_age = df['age_mean_numeric'].mean()\n",
    "mean_age_weighted = (df['age_mean_numeric'] * df['sample_size']).sum() / df['sample_size'].sum()\n",
    "print(\"Mean age of the sample: \", mean_age) \n",
    "print(\"Weighted mean age of the sample: \", mean_age_weighted) #17.76\n"
   ]
  },
  {
   "cell_type": "code",
   "execution_count": 3,
   "id": "c2d5f900",
   "metadata": {},
   "outputs": [
    {
     "name": "stdout",
     "output_type": "stream",
     "text": [
      "Summed sample:  73833\n",
      "Total sample size of the review (studies removed that were used multiple times):  62622\n",
      "Average sample size of the review:  792.6835443037975\n"
     ]
    }
   ],
   "source": [
    "#average sample size\n",
    "#summing the sample size for each dataset\n",
    "unique_studies = df[df[\"Name_dataset\"].isna()][\"sample_size\"].sum()\n",
    "grouped_sample_size = df.groupby(\"Name_dataset\")[\"sample_size\"].max().sum()\n",
    "total_sample_size = unique_studies + grouped_sample_size\n",
    "print(\"Summed sample: \", df['sample_size'].sum()) # 123,000\n",
    "print(\"Total sample size of the review (studies removed that were used multiple times): \", total_sample_size)\n",
    "average_sample_size = total_sample_size / 79\n",
    "print(\"Average sample size of the review: \", average_sample_size)"
   ]
  },
  {
   "cell_type": "code",
   "execution_count": 4,
   "id": "6dd6acb0",
   "metadata": {},
   "outputs": [
    {
     "name": "stdout",
     "output_type": "stream",
     "text": [
      "Mean gender distribution: on average  33.03911392405063  per cent female participants\n",
      "Mean gender distribution weighted by sample size: on average  34.027835791583705  per cent female participants\n"
     ]
    }
   ],
   "source": [
    "#Gender distributions\n",
    "df['gender_percent_female'].value_counts() #24 all male studies, 3 all female studies\n",
    "mean_gender_distribution = df['gender_percent_female'].mean()\n",
    "mean_gender_distribution_weighted = (df['gender_percent_female'] * df['sample_size']).sum() / df['sample_size'].sum()\n",
    "print('Mean gender distribution: on average ',  mean_gender_distribution, ' per cent female participants')\n",
    "print('Mean gender distribution weighted by sample size: on average ', mean_gender_distribution_weighted, ' per cent female participants')"
   ]
  },
  {
   "cell_type": "markdown",
   "id": "b25dae30",
   "metadata": {},
   "source": [
    "--> overrepresentation of men but this likely represents a real difference in prevalence rates "
   ]
  },
  {
   "cell_type": "code",
   "execution_count": 5,
   "id": "2db5c08b",
   "metadata": {},
   "outputs": [
    {
     "name": "stdout",
     "output_type": "stream",
     "text": [
      "Mean age: on average  20.83530985915493  years\n",
      "Mean age weighted by sample size: on average  17.759201942220958  years\n"
     ]
    }
   ],
   "source": [
    "#Age average \n",
    "df['age_mean'].value_counts() # 3 studies with no age data\n",
    "df['age_mean_numeric'] = pd.to_numeric(df['age_mean'], errors='coerce')\n",
    "\n",
    "mean_age = df['age_mean_numeric'].mean()\n",
    "mean_age_weighted = (df['age_mean_numeric'] * df['sample_size']).sum() / df['sample_size'].sum()\n",
    "print('Mean age: on average ',  mean_age, ' years')\n",
    "print('Mean age weighted by sample size: on average ', mean_age_weighted, ' years') #17.76\n"
   ]
  },
  {
   "cell_type": "code",
   "execution_count": 6,
   "id": "1075c032",
   "metadata": {},
   "outputs": [
    {
     "data": {
      "text/plain": [
       "Index(['Unnamed: 0.1', 'Unnamed: 0', 'index', 'name', 'f_author', 'year',\n",
       "       'all_authors', 'journal', 'journal_5_y_if', 'Name_dataset',\n",
       "       'region_dataset', 'dataset_notes', 'sample_size', 'age_range',\n",
       "       'age_mean', 'age_SD', 'demographics', 'gender_percent_female',\n",
       "       'institutional_sample', 'phenotypes', 'p_or_cu', 'assessment_tool',\n",
       "       'assessment_type', 'place_in_model', 'cognitive_variable',\n",
       "       'cognitive_assessment', 'cognitive_assessment_type',\n",
       "       'behavioral_variable ', 'behavioral_assessment',\n",
       "       'behavioral_assessment_type', 'brain_variable ', 'brain_assessment',\n",
       "       'ROI', 'dummy_B_C_B', 'feature_predictors', 'design', 'goal',\n",
       "       'general_model', 'model_in_text', 'other_analyses', 'groups',\n",
       "       'outcome_comment', 'outcome_variable', 'directionality',\n",
       "       'pred_intervall', 'outcome_variable.1', 'outcome_variable_value',\n",
       "       'outcome_variable_value_p', 'substance_use', 'substance ',\n",
       "       'comorbidity', 'comorbidity_type',\n",
       "       'Is the research objective clearly stated?',\n",
       "       'Is the study population clearly specified and defined (i.e., clearly stated and justified in- and exclusion criteria)?',\n",
       "       ' Is setting adequately reported (i.e., region(s) of data collection, relevant dates, period of recruitment, use in other studies)?',\n",
       "       ' Is there a justification for sample size (i.e. power analysis)? Is the sampling procedure adequately explained?',\n",
       "       'Is the case definition adequate (i.e. diagnosis is carried out with DSM or ICD or similarly recognized and validated questionnaire)?',\n",
       "       'If there is a control group/does the group have sufficient range? is there adequate control of confounding variables e.g. through matching?',\n",
       "       ' Is missing data/dropout addressed (how is missing data handled, is it reported why data is missing)?',\n",
       "       'Are the use of statistical methods adequately justified? are all tests reported?',\n",
       "       'Are sample demographics reported adequately?',\n",
       "       ' Are all results for all variables reported?',\n",
       "       'Reported quality or Goodness of fit indices (at least 2, ideally 3)',\n",
       "       'quality_score', 'age_range2', 'quality_score2', 'general_model2',\n",
       "       'place_in_model2', 'type_color', 'behavioral_variable', 'age_mean_calc',\n",
       "       'institutional_sample2', 'brain_variable', 'direction_lowgranular',\n",
       "       'nameyear', 'gm_counts', 'mit_counts', 'cog_counts', 'beh_counts',\n",
       "       'atool_counts', 'ctool_counts', 'btool_counts', 'amodality_counts',\n",
       "       'cmodality_counts', 'bmodality_counts', 'age_mean_numeric'],\n",
       "      dtype='object')"
      ]
     },
     "execution_count": 6,
     "metadata": {},
     "output_type": "execute_result"
    }
   ],
   "source": [
    "df.columns"
   ]
  },
  {
   "cell_type": "code",
   "execution_count": 7,
   "id": "3c07b19c",
   "metadata": {},
   "outputs": [
    {
     "name": "stdout",
     "output_type": "stream",
     "text": [
      "% of institutional samples:  37.9746835443038\n",
      "% of non-institutional samples:  60.75949367088608\n"
     ]
    }
   ],
   "source": [
    "#make an overview of sample types\n",
    "df['institutional_sample'].value_counts() \n",
    "#print percentages of each sample type\n",
    "print(\"% of institutional samples: \", df['institutional_sample'].value_counts(normalize=True)[1] * 100) # 37.97\n",
    "print(\"% of non-institutional samples: \", df['institutional_sample'].value_counts(normalize=True)[0] * 100) #60.75\n",
    "\n"
   ]
  },
  {
   "cell_type": "code",
   "execution_count": 8,
   "id": "8bf4bf47",
   "metadata": {},
   "outputs": [
    {
     "data": {
      "text/plain": [
       "gender_percent_female\n",
       "0.0      16\n",
       "100.0     2\n",
       "41.5      1\n",
       "47.7      1\n",
       "19.4      1\n",
       "23.3      1\n",
       "42.5      1\n",
       "42.6      1\n",
       "10.0      1\n",
       "57.6      1\n",
       "29.6      1\n",
       "47.2      1\n",
       "17.2      1\n",
       "24.1      1\n",
       "Name: count, dtype: int64"
      ]
     },
     "execution_count": 8,
     "metadata": {},
     "output_type": "execute_result"
    }
   ],
   "source": [
    "df_institutional = df[df['institutional_sample'] == 1]\n",
    "df_institutional['gender_percent_female'].value_counts()"
   ]
  },
  {
   "cell_type": "code",
   "execution_count": 9,
   "id": "7962f33d",
   "metadata": {},
   "outputs": [
    {
     "data": {
      "text/plain": [
       "design\n",
       "cross sectional    37\n",
       "psychometric       17\n",
       "longitudinal       17\n",
       "experimental        8\n",
       "Name: count, dtype: int64"
      ]
     },
     "execution_count": 9,
     "metadata": {},
     "output_type": "execute_result"
    }
   ],
   "source": [
    "df['design'].value_counts()\n"
   ]
  },
  {
   "cell_type": "code",
   "execution_count": 10,
   "id": "b0651836",
   "metadata": {},
   "outputs": [
    {
     "name": "stdout",
     "output_type": "stream",
     "text": [
      "% of cross-sectional studies:  46.835443037974684\n",
      "% of longitudinal studies:  21.518987341772153\n",
      "% of psychometric studies:  21.518987341772153\n",
      "% of experimental studies:  10.126582278481013\n"
     ]
    },
    {
     "name": "stderr",
     "output_type": "stream",
     "text": [
      "C:\\Users\\U727148\\AppData\\Local\\Temp\\ipykernel_19920\\2384780223.py:2: FutureWarning: Series.__getitem__ treating keys as positions is deprecated. In a future version, integer keys will always be treated as labels (consistent with DataFrame behavior). To access a value by position, use `ser.iloc[pos]`\n",
      "  print(\"% of cross-sectional studies: \", df['design'].value_counts(normalize=True)[0] * 100) # 49.37\n",
      "C:\\Users\\U727148\\AppData\\Local\\Temp\\ipykernel_19920\\2384780223.py:3: FutureWarning: Series.__getitem__ treating keys as positions is deprecated. In a future version, integer keys will always be treated as labels (consistent with DataFrame behavior). To access a value by position, use `ser.iloc[pos]`\n",
      "  print(\"% of longitudinal studies: \", df['design'].value_counts(normalize=True)[1] * 100) # 21.52\n",
      "C:\\Users\\U727148\\AppData\\Local\\Temp\\ipykernel_19920\\2384780223.py:4: FutureWarning: Series.__getitem__ treating keys as positions is deprecated. In a future version, integer keys will always be treated as labels (consistent with DataFrame behavior). To access a value by position, use `ser.iloc[pos]`\n",
      "  print(\"% of psychometric studies: \", df['design'].value_counts(normalize=True)[2] * 100) # 18.99\n",
      "C:\\Users\\U727148\\AppData\\Local\\Temp\\ipykernel_19920\\2384780223.py:5: FutureWarning: Series.__getitem__ treating keys as positions is deprecated. In a future version, integer keys will always be treated as labels (consistent with DataFrame behavior). To access a value by position, use `ser.iloc[pos]`\n",
      "  print(\"% of experimental studies: \", df['design'].value_counts(normalize=True)[3] * 100) # 10.13\n"
     ]
    }
   ],
   "source": [
    "\n",
    "#print percentages of each design type\n",
    "print(\"% of cross-sectional studies: \", df['design'].value_counts(normalize=True)[0] * 100) # 49.37\n",
    "print(\"% of longitudinal studies: \", df['design'].value_counts(normalize=True)[1] * 100) # 21.52\n",
    "print(\"% of psychometric studies: \", df['design'].value_counts(normalize=True)[2] * 100) # 18.99\n",
    "print(\"% of experimental studies: \", df['design'].value_counts(normalize=True)[3] * 100) # 10.13\n"
   ]
  },
  {
   "cell_type": "code",
   "execution_count": 11,
   "id": "da791268",
   "metadata": {},
   "outputs": [
    {
     "data": {
      "text/plain": [
       "goal\n",
       "structure                 29\n",
       "structure; association     5\n",
       "association                2\n",
       "brain structure            1\n",
       "Name: count, dtype: int64"
      ]
     },
     "execution_count": 11,
     "metadata": {},
     "output_type": "execute_result"
    }
   ],
   "source": [
    "#looking at cross-sectional studies only\n",
    "df_cross = df[df['design'] == ('cross sectional')]\n",
    "df_cross['goal'].value_counts() # 3 studies with no goal data"
   ]
  },
  {
   "cell_type": "code",
   "execution_count": 12,
   "id": "72bf9820",
   "metadata": {},
   "outputs": [
    {
     "data": {
      "text/plain": [
       "goal\n",
       "validation                       7\n",
       "structure                        5\n",
       "structure; association           2\n",
       "scale development; validation    1\n",
       "structure; validation            1\n",
       "association                      1\n",
       "Name: count, dtype: int64"
      ]
     },
     "execution_count": 12,
     "metadata": {},
     "output_type": "execute_result"
    }
   ],
   "source": [
    "#looking at cross-sectional studies only\n",
    "df_psych = df[df['design'] == ('psychometric')]\n",
    "df_psych['goal'].value_counts() # 3 studies with no goal data"
   ]
  },
  {
   "cell_type": "code",
   "execution_count": 13,
   "id": "c9a05129",
   "metadata": {},
   "outputs": [
    {
     "data": {
      "text/plain": [
       "general_model\n",
       "factor analysis                                                                12\n",
       "factor analysis; latent class analysis                                          2\n",
       "principal component analysis; factor analysis; latent class analysis            1\n",
       "factor analysis; principal component analysis; structural equation modeling     1\n",
       "structural equation modeling                                                    1\n",
       "Name: count, dtype: int64"
      ]
     },
     "execution_count": 13,
     "metadata": {},
     "output_type": "execute_result"
    }
   ],
   "source": [
    "df_psych['general_model'].value_counts() # 3 studies with no model data "
   ]
  },
  {
   "cell_type": "code",
   "execution_count": 14,
   "id": "bea6c506",
   "metadata": {},
   "outputs": [
    {
     "data": {
      "text/plain": [
       "goal\n",
       "development                9\n",
       "structure                  4\n",
       "prediction                 3\n",
       "prediction; development    1\n",
       "Name: count, dtype: int64"
      ]
     },
     "execution_count": 14,
     "metadata": {},
     "output_type": "execute_result"
    }
   ],
   "source": [
    "df_long = df[df['design'] == ('longitudinal')]\n",
    "df_long['goal'].value_counts() # 3 studies with no goal data\n"
   ]
  },
  {
   "cell_type": "code",
   "execution_count": 15,
   "id": "f84c6863",
   "metadata": {},
   "outputs": [
    {
     "data": {
      "text/plain": [
       "general_model\n",
       "growth model                    11\n",
       "latent class analysis            5\n",
       "structural equation modeling     1\n",
       "Name: count, dtype: int64"
      ]
     },
     "execution_count": 15,
     "metadata": {},
     "output_type": "execute_result"
    }
   ],
   "source": [
    "\n",
    "df_long['general_model'].value_counts()"
   ]
  },
  {
   "cell_type": "code",
   "execution_count": 16,
   "id": "680af594",
   "metadata": {},
   "outputs": [
    {
     "data": {
      "text/plain": [
       "goal\n",
       "association                    4\n",
       "cu traits as mediator          1\n",
       "reward learning differences    1\n",
       "brain structure                1\n",
       "structure                      1\n",
       "Name: count, dtype: int64"
      ]
     },
     "execution_count": 16,
     "metadata": {},
     "output_type": "execute_result"
    }
   ],
   "source": [
    "df_exp = df[df['design'] == ('experimental')]\n",
    "df_exp['goal'].value_counts()"
   ]
  },
  {
   "cell_type": "code",
   "execution_count": 17,
   "id": "5bb5d174",
   "metadata": {},
   "outputs": [
    {
     "data": {
      "text/plain": [
       "general_model\n",
       "fMRI task                 5\n",
       "computational modeling    2\n",
       "factor analysis           1\n",
       "Name: count, dtype: int64"
      ]
     },
     "execution_count": 17,
     "metadata": {},
     "output_type": "execute_result"
    }
   ],
   "source": [
    "df_exp['general_model'].value_counts() "
   ]
  },
  {
   "cell_type": "code",
   "execution_count": 18,
   "id": "da908579",
   "metadata": {},
   "outputs": [],
   "source": [
    "df_institutional['general_model'].value_counts() \n",
    "#make noninstitutional df\n",
    "df_noninstitutional = df[df['institutional_sample'] == 0]\n"
   ]
  },
  {
   "cell_type": "code",
   "execution_count": 19,
   "id": "171fb9a2",
   "metadata": {},
   "outputs": [
    {
     "name": "stdout",
     "output_type": "stream",
     "text": [
      "% of cross-sectional studies in institutional samples:  56.666666666666664\n",
      "% of longitudinal studies in institutional samples:  20.0\n",
      "% of psychometric studies in institutional samples:  16.666666666666664\n",
      "% of experimental studies in institutional samples:  6.666666666666667\n",
      "% of cross-sectional studies in non-institutional samples:  41.66666666666667\n",
      "% of longitudinal studies in non-institutional samples:  25.0\n",
      "% of psychometric studies in non-institutional samples:  20.833333333333336\n",
      "% of experimental studies in non-institutional samples:  12.5\n"
     ]
    },
    {
     "name": "stderr",
     "output_type": "stream",
     "text": [
      "C:\\Users\\U727148\\AppData\\Local\\Temp\\ipykernel_19920\\60852379.py:2: FutureWarning: Series.__getitem__ treating keys as positions is deprecated. In a future version, integer keys will always be treated as labels (consistent with DataFrame behavior). To access a value by position, use `ser.iloc[pos]`\n",
      "  print(\"% of cross-sectional studies in institutional samples: \", df_institutional['design'].value_counts(normalize=True)[0] * 100) # 49.37\n",
      "C:\\Users\\U727148\\AppData\\Local\\Temp\\ipykernel_19920\\60852379.py:3: FutureWarning: Series.__getitem__ treating keys as positions is deprecated. In a future version, integer keys will always be treated as labels (consistent with DataFrame behavior). To access a value by position, use `ser.iloc[pos]`\n",
      "  print(\"% of longitudinal studies in institutional samples: \", df_institutional['design'].value_counts(normalize=True)[1] * 100) # 21.52\n",
      "C:\\Users\\U727148\\AppData\\Local\\Temp\\ipykernel_19920\\60852379.py:4: FutureWarning: Series.__getitem__ treating keys as positions is deprecated. In a future version, integer keys will always be treated as labels (consistent with DataFrame behavior). To access a value by position, use `ser.iloc[pos]`\n",
      "  print(\"% of psychometric studies in institutional samples: \", df_institutional['design'].value_counts(normalize=True)[2] * 100) # 18.99\n",
      "C:\\Users\\U727148\\AppData\\Local\\Temp\\ipykernel_19920\\60852379.py:5: FutureWarning: Series.__getitem__ treating keys as positions is deprecated. In a future version, integer keys will always be treated as labels (consistent with DataFrame behavior). To access a value by position, use `ser.iloc[pos]`\n",
      "  print(\"% of experimental studies in institutional samples: \", df_institutional['design'].value_counts(normalize=True)[3] * 100) # 10.13\n",
      "C:\\Users\\U727148\\AppData\\Local\\Temp\\ipykernel_19920\\60852379.py:7: FutureWarning: Series.__getitem__ treating keys as positions is deprecated. In a future version, integer keys will always be treated as labels (consistent with DataFrame behavior). To access a value by position, use `ser.iloc[pos]`\n",
      "  print(\"% of cross-sectional studies in non-institutional samples: \", df_noninstitutional['design'].value_counts(normalize=True)[0] * 100) # 49.37\n",
      "C:\\Users\\U727148\\AppData\\Local\\Temp\\ipykernel_19920\\60852379.py:8: FutureWarning: Series.__getitem__ treating keys as positions is deprecated. In a future version, integer keys will always be treated as labels (consistent with DataFrame behavior). To access a value by position, use `ser.iloc[pos]`\n",
      "  print(\"% of longitudinal studies in non-institutional samples: \", df_noninstitutional['design'].value_counts(normalize=True)[1] * 100) # 21.52\n",
      "C:\\Users\\U727148\\AppData\\Local\\Temp\\ipykernel_19920\\60852379.py:9: FutureWarning: Series.__getitem__ treating keys as positions is deprecated. In a future version, integer keys will always be treated as labels (consistent with DataFrame behavior). To access a value by position, use `ser.iloc[pos]`\n",
      "  print(\"% of psychometric studies in non-institutional samples: \", df_noninstitutional['design'].value_counts(normalize=True)[2] * 100) # 18.99\n",
      "C:\\Users\\U727148\\AppData\\Local\\Temp\\ipykernel_19920\\60852379.py:10: FutureWarning: Series.__getitem__ treating keys as positions is deprecated. In a future version, integer keys will always be treated as labels (consistent with DataFrame behavior). To access a value by position, use `ser.iloc[pos]`\n",
      "  print(\"% of experimental studies in non-institutional samples: \", df_noninstitutional['design'].value_counts(normalize=True)[3] * 100) # 10.13\n"
     ]
    }
   ],
   "source": [
    "\n",
    "#calculate percentage of designs in both samples:\n",
    "print(\"% of cross-sectional studies in institutional samples: \", df_institutional['design'].value_counts(normalize=True)[0] * 100) # 49.37\n",
    "print(\"% of longitudinal studies in institutional samples: \", df_institutional['design'].value_counts(normalize=True)[1] * 100) # 21.52\n",
    "print(\"% of psychometric studies in institutional samples: \", df_institutional['design'].value_counts(normalize=True)[2] * 100) # 18.99\n",
    "print(\"% of experimental studies in institutional samples: \", df_institutional['design'].value_counts(normalize=True)[3] * 100) # 10.13\n",
    "\n",
    "print(\"% of cross-sectional studies in non-institutional samples: \", df_noninstitutional['design'].value_counts(normalize=True)[0] * 100) # 49.37\n",
    "print(\"% of longitudinal studies in non-institutional samples: \", df_noninstitutional['design'].value_counts(normalize=True)[1] * 100) # 21.52\n",
    "print(\"% of psychometric studies in non-institutional samples: \", df_noninstitutional['design'].value_counts(normalize=True)[2] * 100) # 18.99\n",
    "print(\"% of experimental studies in non-institutional samples: \", df_noninstitutional['design'].value_counts(normalize=True)[3] * 100) # 10.13\n",
    "\n",
    "#% of cross-sectional studies in institutional samples:  56.666666666666664\n",
    "#% of longitudinal studies in institutional samples:  20.0\n",
    "#% of psychometric studies in institutional samples:  16.666666666666664\n",
    "#% of experimental studies in institutional samples:  6.666666666666667\n",
    "#% of cross-sectional studies in non-institutional samples:  41.66666666666667\n",
    "#% of longitudinal studies in non-institutional samples:  25.0\n",
    "#% of psychometric studies in non-institutional samples:  20.833333333333336\n",
    "#% of experimental studies in non-institutional samples:  12.5\n"
   ]
  },
  {
   "cell_type": "code",
   "execution_count": 20,
   "id": "c35de29c",
   "metadata": {},
   "outputs": [
    {
     "data": {
      "text/plain": [
       "general_model\n",
       "latent class analysis                                                   15\n",
       "factor analysis                                                          5\n",
       "computational modeling                                                   2\n",
       "structural equation modeling                                             2\n",
       "growth model                                                             2\n",
       "factor analysis; latent class analysis                                   2\n",
       "factor analysis; structural equation modeling; latent class analysis     1\n",
       "clustering                                                               1\n",
       "Name: count, dtype: int64"
      ]
     },
     "execution_count": 20,
     "metadata": {},
     "output_type": "execute_result"
    }
   ],
   "source": [
    "df_institutional['general_model'].value_counts()"
   ]
  },
  {
   "cell_type": "code",
   "execution_count": 21,
   "id": "83ed6a50",
   "metadata": {},
   "outputs": [
    {
     "name": "stdout",
     "output_type": "stream",
     "text": [
      "% of LCA studies in institutional samples:  50.0\n",
      "% of FA in institutional samples:  16.666666666666664\n",
      "% of modeling, SEM, growth model in institutional samples:  6.666666666666667\n",
      "% of LCA in non-institutional samples:  29.166666666666668\n",
      "% of FA & growth models studies in non-institutional samples:  18.75\n",
      "% of SEM in non-institutional samples:  12.5\n",
      "% of fMRI task  in non-institutional samples:  10.416666666666668\n"
     ]
    },
    {
     "name": "stderr",
     "output_type": "stream",
     "text": [
      "C:\\Users\\U727148\\AppData\\Local\\Temp\\ipykernel_19920\\59232553.py:1: FutureWarning: Series.__getitem__ treating keys as positions is deprecated. In a future version, integer keys will always be treated as labels (consistent with DataFrame behavior). To access a value by position, use `ser.iloc[pos]`\n",
      "  print(\"% of LCA studies in institutional samples: \", df_institutional['general_model'].value_counts(normalize=True)[0] * 100) # 49.37\n",
      "C:\\Users\\U727148\\AppData\\Local\\Temp\\ipykernel_19920\\59232553.py:2: FutureWarning: Series.__getitem__ treating keys as positions is deprecated. In a future version, integer keys will always be treated as labels (consistent with DataFrame behavior). To access a value by position, use `ser.iloc[pos]`\n",
      "  print(\"% of FA in institutional samples: \", df_institutional['general_model'].value_counts(normalize=True)[1] * 100) # 21.52\n",
      "C:\\Users\\U727148\\AppData\\Local\\Temp\\ipykernel_19920\\59232553.py:3: FutureWarning: Series.__getitem__ treating keys as positions is deprecated. In a future version, integer keys will always be treated as labels (consistent with DataFrame behavior). To access a value by position, use `ser.iloc[pos]`\n",
      "  print(\"% of modeling, SEM, growth model in institutional samples: \", df_institutional['general_model'].value_counts(normalize=True)[2] * 100) # 21.52\n",
      "C:\\Users\\U727148\\AppData\\Local\\Temp\\ipykernel_19920\\59232553.py:5: FutureWarning: Series.__getitem__ treating keys as positions is deprecated. In a future version, integer keys will always be treated as labels (consistent with DataFrame behavior). To access a value by position, use `ser.iloc[pos]`\n",
      "  print(\"% of LCA in non-institutional samples: \", df_noninstitutional['general_model'].value_counts(normalize=True)[0] * 100) # 49.37\n",
      "C:\\Users\\U727148\\AppData\\Local\\Temp\\ipykernel_19920\\59232553.py:6: FutureWarning: Series.__getitem__ treating keys as positions is deprecated. In a future version, integer keys will always be treated as labels (consistent with DataFrame behavior). To access a value by position, use `ser.iloc[pos]`\n",
      "  print(\"% of FA & growth models studies in non-institutional samples: \", df_noninstitutional['general_model'].value_counts(normalize=True)[1] * 100) # 21.52\n",
      "C:\\Users\\U727148\\AppData\\Local\\Temp\\ipykernel_19920\\59232553.py:7: FutureWarning: Series.__getitem__ treating keys as positions is deprecated. In a future version, integer keys will always be treated as labels (consistent with DataFrame behavior). To access a value by position, use `ser.iloc[pos]`\n",
      "  print(\"% of SEM in non-institutional samples: \", df_noninstitutional['general_model'].value_counts(normalize=True)[3] * 100) # 18.99\n",
      "C:\\Users\\U727148\\AppData\\Local\\Temp\\ipykernel_19920\\59232553.py:8: FutureWarning: Series.__getitem__ treating keys as positions is deprecated. In a future version, integer keys will always be treated as labels (consistent with DataFrame behavior). To access a value by position, use `ser.iloc[pos]`\n",
      "  print(\"% of fMRI task  in non-institutional samples: \", df_noninstitutional['general_model'].value_counts(normalize=True)[4] * 100) # 10.13\n"
     ]
    }
   ],
   "source": [
    "print(\"% of LCA studies in institutional samples: \", df_institutional['general_model'].value_counts(normalize=True)[0] * 100) # 49.37\n",
    "print(\"% of FA in institutional samples: \", df_institutional['general_model'].value_counts(normalize=True)[1] * 100) # 21.52\n",
    "print(\"% of modeling, SEM, growth model in institutional samples: \", df_institutional['general_model'].value_counts(normalize=True)[2] * 100) # 21.52\n",
    "\n",
    "print(\"% of LCA in non-institutional samples: \", df_noninstitutional['general_model'].value_counts(normalize=True)[0] * 100) # 49.37\n",
    "print(\"% of FA & growth models studies in non-institutional samples: \", df_noninstitutional['general_model'].value_counts(normalize=True)[1] * 100) # 21.52\n",
    "print(\"% of SEM in non-institutional samples: \", df_noninstitutional['general_model'].value_counts(normalize=True)[3] * 100) # 18.99\n",
    "print(\"% of fMRI task  in non-institutional samples: \", df_noninstitutional['general_model'].value_counts(normalize=True)[4] * 100) # 10.13\n",
    "\n",
    "#% of LCA studies in institutional samples:  50.0\n",
    "#% of FA in institutional samples:  16.666666666666664\n",
    "#% of modeling, SEM, growth model in institutional samples:  6.666666666666664\n",
    "\n",
    "#% of LCA in non-institutional samples:  29.166666666666668\n",
    "#% of FA & growth models studies in non-institutional samples:  18.75\n",
    "#% of SEM in non-institutional samples:  12.5\n",
    "#% of fMRI task  in non-institutional samples:  10.4"
   ]
  },
  {
   "cell_type": "code",
   "execution_count": 22,
   "id": "613f5af7",
   "metadata": {},
   "outputs": [
    {
     "data": {
      "text/plain": [
       "19    Antisocial Process Screening Device (APSD)\n",
       "30     Child Problematic Traits Inventory (CPTI)\n",
       "46        Psychopathy Checklist: Revised (PCL-R)\n",
       "48     Youth Psychopathic Traits Inventory (YPI)\n",
       "50     Youth Psychopathic Traits Inventory (YPI)\n",
       "52     Youth Psychopathic Traits Inventory (YPI)\n",
       "73        Psychopathy Checklist: Revised (PCL-R)\n",
       "74     Youth Psychopathic Traits Inventory (YPI)\n",
       "78        Psychopathy Checklist: Revised (PCL-R)\n",
       "Name: assessment_tool, dtype: object"
      ]
     },
     "execution_count": 22,
     "metadata": {},
     "output_type": "execute_result"
    }
   ],
   "source": [
    "#Variable types summaries! p/cu, cognitive, behavioral, and brain\n",
    "#starting with p/cu\n",
    "df['p_or_cu'].value_counts() \n",
    "#does this map onto the age of the sample? \n",
    "df['p_or_cu'].value_counts(normalize=True) # 60% p, 40% cu\n",
    "#p_or_cu\n",
    "#psychopathic traits               0.531646\n",
    "#cu traits                         0.430380\n",
    "# cu traits; psychopathic traits    0.037975\n",
    "df['age_range'].value_counts(normalize=True) \n",
    "#adolescents                  0.291139\n",
    "#adults                       0.240506\n",
    "#children                     0.215190\n",
    "#young adults                 0.126582\n",
    "#children; adolescents        0.063291\n",
    "#adolescents; young adults    0.037975\n",
    "#young adults; adults         0.025316\n",
    "# 12 percent mixed ages, these are the longitudinal studies\n",
    "#there are 38% of studies with >18 participants, possibly up to 41% when considering the samples from the longitudinal studies\n",
    "# however 53% of studies look at psychopathic traits! so there are a few studies that look at participants below 18 and yet call them psychopathic traits\n",
    "#let's have a closer look at those studies\n",
    "#filter by p_or_cu == 'psychopathic traits' and age_range == ['children', 'adolescents', 'children; adolescents']\n",
    "df_filter = df[(df['p_or_cu'] == 'psychopathic traits') & (df['age_range'].isin(['children', 'adolescents', 'children; adolescents']))]\n",
    "df_filter['assessment_tool']"
   ]
  },
  {
   "cell_type": "markdown",
   "id": "3a00c36f",
   "metadata": {},
   "source": [
    "Looking closer at the use of psychopathic traits in youth. \n",
    "1. Colins 2022: Specifically looks at the use of psychopathic rather than CU traits as a measure of recidivism prediction in detained girls. Specifically talk about putative psychopathic personality. Finding: PPP is not incrementally predictive of rearrests <18 years old above past arrests.\n",
    "2. Lopez-Romero 2021: specifically looked at the viability of considering psychopathic as opposed to CU traits in youth\n",
    "3. Waller 2019: used PCL-R youth version (factor 1/2 for prediction of behavior)\n",
    "4. Colins 2018: used YPTI\n",
    "5. Adjorlolo 2018: used YPTI\n",
    "6. Dubas 2018: used YPTI\n",
    "7. Kimonis 2011: used PCL-R youth version \n",
    "8. Nijhof 2011: used YPTI\n",
    "9. Vitacco 2006: used PCL-R youth version"
   ]
  },
  {
   "cell_type": "code",
   "execution_count": 23,
   "id": "a94d2707",
   "metadata": {},
   "outputs": [
    {
     "data": {
      "text/plain": [
       "design\n",
       "cross sectional    0.411765\n",
       "longitudinal       0.264706\n",
       "experimental       0.235294\n",
       "psychometric       0.088235\n",
       "Name: proportion, dtype: float64"
      ]
     },
     "execution_count": 23,
     "metadata": {},
     "output_type": "execute_result"
    }
   ],
   "source": [
    "#Do people use different designs for p or cu traits? \n",
    "df_psychopathic = df[df['p_or_cu'] == 'psychopathic traits']\n",
    "df_psychopathic['design'].value_counts() # 3 studies with no design data\n",
    "df_psychopathic['design'].value_counts(normalize=True) # 3 studies with no design data\n",
    "\n",
    "df_callous = df[df['p_or_cu'] == 'cu traits']\n",
    "df_callous['design'].value_counts(normalize=True) # 3 studies with no design data\n",
    "\n"
   ]
  },
  {
   "cell_type": "code",
   "execution_count": 24,
   "id": "013c7c3c",
   "metadata": {},
   "outputs": [
    {
     "data": {
      "text/plain": [
       "design\n",
       "cross sectional    0.547619\n",
       "psychometric       0.309524\n",
       "longitudinal       0.142857\n",
       "Name: proportion, dtype: float64"
      ]
     },
     "execution_count": 24,
     "metadata": {},
     "output_type": "execute_result"
    }
   ],
   "source": [
    "df_psychopathic['design'].value_counts(normalize=True) \n"
   ]
  },
  {
   "cell_type": "code",
   "execution_count": 25,
   "id": "98239d8a",
   "metadata": {},
   "outputs": [
    {
     "data": {
      "text/plain": [
       "general_model\n",
       "latent class analysis                                                          0.404762\n",
       "factor analysis                                                                0.261905\n",
       "structural equation modeling                                                   0.142857\n",
       "growth model                                                                   0.071429\n",
       "factor analysis; latent class analysis                                         0.047619\n",
       "factor analysis; principal component analysis; structural equation modeling    0.023810\n",
       "factor analysis; structural equation modeling; latent class analysis           0.023810\n",
       "clustering                                                                     0.023810\n",
       "Name: proportion, dtype: float64"
      ]
     },
     "execution_count": 25,
     "metadata": {},
     "output_type": "execute_result"
    }
   ],
   "source": [
    "df_psychopathic['general_model'].value_counts(normalize=True) \n"
   ]
  },
  {
   "cell_type": "code",
   "execution_count": 26,
   "id": "24fff9b1",
   "metadata": {},
   "outputs": [
    {
     "data": {
      "text/plain": [
       "behavioral_variable\n",
       "aggression                                                                 13\n",
       "externalizing behavior                                                     12\n",
       "conduct problems                                                            9\n",
       "criminal behavior                                                           9\n",
       "aggression; externalizing behavior                                          4\n",
       "criminal behavior; substance use                                            3\n",
       "criminal behavior; externalizing behavior                                   2\n",
       "criminal behavior; externalizing behavior; substance use                    2\n",
       "aggression; substance use                                                   2\n",
       "conduct problems; externalizing behavior                                    1\n",
       "workplace deviance                                                          1\n",
       "ADHD symptoms; substance use                                                1\n",
       "criminal behavior; marijuana use                                            1\n",
       "behavioral inhibition; ASPD symptoms                                        1\n",
       "clinical diagnosis; externalizing behavior; substance use                   1\n",
       "sexual violence                                                             1\n",
       "ADHD symptoms; conduct problems                                             1\n",
       "aggression; criminal behavior; externalizing behavior; substance use        1\n",
       "substance use; risky sexual behavior                                        1\n",
       "aggression; criminal behavior                                               1\n",
       "conduct problems; substance use; criminal behavior                          1\n",
       "aggression; conduct problems; criminal behavior; substance use              1\n",
       "conduct problems; criminal behavior; externalizing behavior                 1\n",
       "externalizing behavior; substance use                                       1\n",
       "conduct problems; criminal behavior                                         1\n",
       "aggression; conduct problems                                                1\n",
       "externalizing behavior; criminal behavior; ADHD symptoms; substance use     1\n",
       "clinical diagnosis; externalizing behavior                                  1\n",
       "criminal behavior; substance use; aggression                                1\n",
       "substance use; prison behavior                                              1\n",
       "aggression; prison behavior                                                 1\n",
       "Name: count, dtype: int64"
      ]
     },
     "execution_count": 26,
     "metadata": {},
     "output_type": "execute_result"
    }
   ],
   "source": [
    "#Looking at how many studies reported multiple cognitive variables\n",
    "#count entries by semicolon\n",
    "df['behavioral_variable'].value_counts() # 3 studies with no cognitive variable data\n",
    "\n"
   ]
  },
  {
   "cell_type": "code",
   "execution_count": 27,
   "id": "b99db36c",
   "metadata": {},
   "outputs": [
    {
     "data": {
      "text/plain": [
       "general_model\n",
       "latent class analysis                                                   0.352941\n",
       "growth model                                                            0.176471\n",
       "fMRI task                                                               0.147059\n",
       "factor analysis                                                         0.117647\n",
       "computational modeling                                                  0.058824\n",
       "structural equation modeling                                            0.058824\n",
       "factor analysis; latent class analysis                                  0.029412\n",
       "graph analysis                                                          0.029412\n",
       "principal component analysis; factor analysis; latent class analysis    0.029412\n",
       "Name: proportion, dtype: float64"
      ]
     },
     "execution_count": 27,
     "metadata": {},
     "output_type": "execute_result"
    }
   ],
   "source": [
    "\n",
    "df_callous['general_model'].value_counts(normalize=True) "
   ]
  },
  {
   "cell_type": "markdown",
   "id": "e6e81734",
   "metadata": {},
   "source": [
    "Interesting! Seems like cross-sectional and psychometric designs are more common in studies investigating psychopathic traits."
   ]
  },
  {
   "cell_type": "code",
   "execution_count": 28,
   "id": "3bde19a3",
   "metadata": {},
   "outputs": [
    {
     "data": {
      "text/plain": [
       "cognitive_assessment_type\n",
       "self report     0.8125\n",
       "experimental    0.1250\n",
       "other report    0.0625\n",
       "Name: proportion, dtype: float64"
      ]
     },
     "execution_count": 28,
     "metadata": {},
     "output_type": "execute_result"
    }
   ],
   "source": [
    "df_psychopathic['cognitive_assessment_type'].value_counts(normalize=True) \n"
   ]
  },
  {
   "cell_type": "code",
   "execution_count": 29,
   "id": "456dc42c",
   "metadata": {},
   "outputs": [
    {
     "data": {
      "text/plain": [
       "cognitive_assessment_type\n",
       "experimental                  0.421053\n",
       "self report                   0.263158\n",
       "other report                  0.157895\n",
       "self report; other report     0.052632\n",
       "experimental; other report    0.052632\n",
       "experimental; self report     0.052632\n",
       "Name: proportion, dtype: float64"
      ]
     },
     "execution_count": 29,
     "metadata": {},
     "output_type": "execute_result"
    }
   ],
   "source": [
    "\n",
    "df_callous['cognitive_assessment_type'].value_counts(normalize=True) \n"
   ]
  },
  {
   "cell_type": "markdown",
   "id": "0462fac1",
   "metadata": {},
   "source": [
    "#cognitive_variable&callous value counts\n",
    "#not assessed                                  16\n",
    "#reward/punishment learning                     5\n",
    "#impulsivity                                    3\n",
    "#executive function                             2\n",
    "#drift rate                                     1\n",
    "#general cognitive ability                      1\n",
    "#empathy                                        1\n",
    "#Inhibition                                     1\n",
    "#self control                                   1\n",
    "#self control; impulsivity                      1\n",
    "#executive function; impulsivity                1\n",
    "#impulsivity; sensation seeking; aggression     1\n",
    "\n",
    "#cog var and psychopathic value counts\n",
    "#not assessed                                             28\n",
    "#impulsivity                                               8\n",
    "#self control                                              2\n",
    "#executive function                                        2\n",
    "#disinhibition                                             1\n",
    "#empathy; self control; sensation seeking; impulsivity     1\n",
    "\n",
    "types for callous: \n",
    "cognitive_assessment_type\n",
    "experimental                  0.421053\n",
    "self report                   0.263158\n",
    "other report                  0.157895\n",
    "self report; other report     0.052632\n",
    "experimental; other report    0.052632\n",
    "experimental; self report     0.052632\n",
    "\n",
    "types for psychopathy: \n",
    "cognitive_assessment_type\n",
    "self report     0.8125\n",
    "experimental    0.1250\n",
    "other report    0.0625\n"
   ]
  },
  {
   "cell_type": "code",
   "execution_count": 30,
   "id": "0f361b34",
   "metadata": {},
   "outputs": [
    {
     "name": "stdout",
     "output_type": "stream",
     "text": [
      "Mean quality score of psychopathic traits studies:  16.547619047619047\n",
      "Mean quality score of psychopathic traits studies weighted by sample size:  17.061748400852878\n"
     ]
    }
   ],
   "source": [
    "mean_qual_psychopathic = df_psychopathic['quality_score'].mean()\n",
    "mean_qual_psychopathic_weighted = (df_psychopathic['quality_score'] * df_psychopathic['sample_size']).sum() / df_psychopathic['sample_size'].sum()\n",
    "print('Mean quality score of psychopathic traits studies: ', mean_qual_psychopathic) # 4.5\n",
    "print('Mean quality score of psychopathic traits studies weighted by sample size: ', mean_qual_psychopathic_weighted) # 4.5"
   ]
  },
  {
   "cell_type": "code",
   "execution_count": 31,
   "id": "86090f1e",
   "metadata": {},
   "outputs": [
    {
     "name": "stdout",
     "output_type": "stream",
     "text": [
      "Mean quality score of cu traits studies:  17.41176470588235\n",
      "Mean quality score of cu traits studies weighted by sample size:  18.365441137177363\n"
     ]
    }
   ],
   "source": [
    "mean_qual_call = df_callous['quality_score'].mean()\n",
    "mean_qual_call_weighted = (df_callous['quality_score'] * df_callous['sample_size']).sum() / df_callous['sample_size'].sum()\n",
    "print('Mean quality score of cu traits studies: ', mean_qual_call) # 4.5\n",
    "print('Mean quality score of cu traits studies weighted by sample size: ', mean_qual_call_weighted) # 4.5"
   ]
  },
  {
   "cell_type": "code",
   "execution_count": 32,
   "id": "6f358e67",
   "metadata": {},
   "outputs": [
    {
     "data": {
      "text/plain": [
       "behavioral_variable\n",
       "externalizing behavior                                                     0.242424\n",
       "conduct problems                                                           0.242424\n",
       "aggression                                                                 0.121212\n",
       "aggression; externalizing behavior                                         0.090909\n",
       "criminal behavior                                                          0.060606\n",
       "conduct problems; externalizing behavior                                   0.030303\n",
       "clinical diagnosis; externalizing behavior                                 0.030303\n",
       "externalizing behavior; criminal behavior; ADHD symptoms; substance use    0.030303\n",
       "conduct problems; criminal behavior; externalizing behavior                0.030303\n",
       "ADHD symptoms; conduct problems                                            0.030303\n",
       "criminal behavior; substance use                                           0.030303\n",
       "clinical diagnosis; externalizing behavior; substance use                  0.030303\n",
       "ADHD symptoms; substance use                                               0.030303\n",
       "Name: proportion, dtype: float64"
      ]
     },
     "execution_count": 32,
     "metadata": {},
     "output_type": "execute_result"
    }
   ],
   "source": [
    "df_callous['behavioral_variable'].value_counts(normalize=True) # 3 studies with no design data"
   ]
  },
  {
   "cell_type": "code",
   "execution_count": 33,
   "id": "fbe1e808",
   "metadata": {},
   "outputs": [
    {
     "data": {
      "text/plain": [
       "behavioral_variable\n",
       "aggression                                                              0.214286\n",
       "criminal behavior                                                       0.166667\n",
       "externalizing behavior                                                  0.071429\n",
       "criminal behavior; substance use                                        0.047619\n",
       "criminal behavior; externalizing behavior                               0.047619\n",
       "criminal behavior; externalizing behavior; substance use                0.047619\n",
       "aggression; substance use                                               0.047619\n",
       "workplace deviance                                                      0.023810\n",
       "criminal behavior; marijuana use                                        0.023810\n",
       "behavioral inhibition; ASPD symptoms                                    0.023810\n",
       "sexual violence                                                         0.023810\n",
       "aggression; criminal behavior; externalizing behavior; substance use    0.023810\n",
       "substance use; risky sexual behavior                                    0.023810\n",
       "externalizing behavior; substance use                                   0.023810\n",
       "aggression; criminal behavior                                           0.023810\n",
       "aggression; conduct problems; criminal behavior; substance use          0.023810\n",
       "aggression; conduct problems                                            0.023810\n",
       "criminal behavior; substance use; aggression                            0.023810\n",
       "substance use; prison behavior                                          0.023810\n",
       "conduct problems; substance use; criminal behavior                      0.023810\n",
       "conduct problems; criminal behavior                                     0.023810\n",
       "aggression; prison behavior                                             0.023810\n",
       "Name: proportion, dtype: float64"
      ]
     },
     "execution_count": 33,
     "metadata": {},
     "output_type": "execute_result"
    }
   ],
   "source": [
    "df_psychopathic['behavioral_variable'].value_counts(normalize=True) # 3 studies with no design data"
   ]
  },
  {
   "cell_type": "code",
   "execution_count": 34,
   "id": "6a3b80e3",
   "metadata": {},
   "outputs": [
    {
     "name": "stderr",
     "output_type": "stream",
     "text": [
      "C:\\Users\\U727148\\AppData\\Local\\Temp\\ipykernel_19920\\1795043487.py:2: SettingWithCopyWarning: \n",
      "A value is trying to be set on a copy of a slice from a DataFrame.\n",
      "Try using .loc[row_indexer,col_indexer] = value instead\n",
      "\n",
      "See the caveats in the documentation: https://pandas.pydata.org/pandas-docs/stable/user_guide/indexing.html#returning-a-view-versus-a-copy\n",
      "  df_psychopathic['behavioral_variable'] = df_psychopathic['behavioral_variable'].str.replace(' ', '') # remove spaces\n",
      "C:\\Users\\U727148\\AppData\\Local\\Temp\\ipykernel_19920\\1795043487.py:3: SettingWithCopyWarning: \n",
      "A value is trying to be set on a copy of a slice from a DataFrame.\n",
      "Try using .loc[row_indexer,col_indexer] = value instead\n",
      "\n",
      "See the caveats in the documentation: https://pandas.pydata.org/pandas-docs/stable/user_guide/indexing.html#returning-a-view-versus-a-copy\n",
      "  df_psychopathic['behavioral_variable'] = df_psychopathic['behavioral_variable'].str.split(';')\n"
     ]
    },
    {
     "data": {
      "text/plain": [
       "behavioral_variable\n",
       "criminalbehavior         0.281690\n",
       "aggression               0.239437\n",
       "substanceuse             0.183099\n",
       "externalizingbehavior    0.126761\n",
       "conductproblems          0.056338\n",
       "prisonbehavior           0.028169\n",
       "workplacedeviance        0.014085\n",
       "riskysexualbehavior      0.014085\n",
       "sexualviolence           0.014085\n",
       "behavioralinhibition     0.014085\n",
       "ASPDsymptoms             0.014085\n",
       "marijuanause             0.014085\n",
       "Name: proportion, dtype: float64"
      ]
     },
     "execution_count": 34,
     "metadata": {},
     "output_type": "execute_result"
    }
   ],
   "source": [
    "#explode the behavioral variable to get the different variables in the same column, stripping unnecessary spaces\n",
    "df_psychopathic['behavioral_variable'] = df_psychopathic['behavioral_variable'].str.replace(' ', '') # remove spaces\n",
    "df_psychopathic['behavioral_variable'] = df_psychopathic['behavioral_variable'].str.split(';')\n",
    "df_psychopathic_exploded = df_psychopathic.explode('behavioral_variable')\n",
    "df_psychopathic_exploded['behavioral_variable'].value_counts(normalize=True) # 3 studies with no design data\n"
   ]
  },
  {
   "cell_type": "code",
   "execution_count": 35,
   "id": "77f36e7d",
   "metadata": {},
   "outputs": [
    {
     "name": "stderr",
     "output_type": "stream",
     "text": [
      "C:\\Users\\U727148\\AppData\\Local\\Temp\\ipykernel_19920\\3497889203.py:2: SettingWithCopyWarning: \n",
      "A value is trying to be set on a copy of a slice from a DataFrame.\n",
      "Try using .loc[row_indexer,col_indexer] = value instead\n",
      "\n",
      "See the caveats in the documentation: https://pandas.pydata.org/pandas-docs/stable/user_guide/indexing.html#returning-a-view-versus-a-copy\n",
      "  df_callous['behavioral_variable'] = df_callous['behavioral_variable'].str.replace(' ', '') # remove spaces\n",
      "C:\\Users\\U727148\\AppData\\Local\\Temp\\ipykernel_19920\\3497889203.py:3: SettingWithCopyWarning: \n",
      "A value is trying to be set on a copy of a slice from a DataFrame.\n",
      "Try using .loc[row_indexer,col_indexer] = value instead\n",
      "\n",
      "See the caveats in the documentation: https://pandas.pydata.org/pandas-docs/stable/user_guide/indexing.html#returning-a-view-versus-a-copy\n",
      "  df_callous['behavioral_variable'] = df_callous['behavioral_variable'].str.split(';')\n"
     ]
    },
    {
     "data": {
      "text/plain": [
       "behavioral_variable\n",
       "externalizingbehavior    0.333333\n",
       "conductproblems          0.229167\n",
       "aggression               0.145833\n",
       "criminalbehavior         0.104167\n",
       "substanceuse             0.083333\n",
       "ADHDsymptoms             0.062500\n",
       "clinicaldiagnosis        0.041667\n",
       "Name: proportion, dtype: float64"
      ]
     },
     "execution_count": 35,
     "metadata": {},
     "output_type": "execute_result"
    }
   ],
   "source": [
    "#explode the behavioral variable to get the different variables in the same column, stripping unnecessary spaces\n",
    "df_callous['behavioral_variable'] = df_callous['behavioral_variable'].str.replace(' ', '') # remove spaces\n",
    "df_callous['behavioral_variable'] = df_callous['behavioral_variable'].str.split(';')\n",
    "df_call_exploded = df_callous.explode('behavioral_variable')\n",
    "df_call_exploded['behavioral_variable'].value_counts(normalize=True) # 3 studies with no design data"
   ]
  },
  {
   "cell_type": "code",
   "execution_count": 36,
   "id": "b1245db3",
   "metadata": {},
   "outputs": [
    {
     "data": {
      "text/plain": [
       "Series([], Name: count, dtype: int64)"
      ]
     },
     "execution_count": 36,
     "metadata": {},
     "output_type": "execute_result"
    }
   ],
   "source": [
    "df_psychopathic['brain_variable'].value_counts() # 3 studies with no design data"
   ]
  },
  {
   "cell_type": "markdown",
   "id": "3f5fd8cc",
   "metadata": {},
   "source": [
    "Callous-Unemotional traits are way more likely to be studied with more neutral terms whereas psychopathy is most commonly studied in connection with aggression and criminal behavior"
   ]
  },
  {
   "cell_type": "code",
   "execution_count": 37,
   "id": "0388e56e",
   "metadata": {},
   "outputs": [
    {
     "data": {
      "text/plain": [
       "brain_variable\n",
       "fMRI            0.666667\n",
       "rs-fMRI         0.166667\n",
       "fMRI in ROIs    0.166667\n",
       "Name: proportion, dtype: float64"
      ]
     },
     "execution_count": 37,
     "metadata": {},
     "output_type": "execute_result"
    }
   ],
   "source": [
    "df_callous['brain_variable'].value_counts(normalize=True) # 3 studies with no design data"
   ]
  },
  {
   "cell_type": "markdown",
   "id": "eccd3a1f",
   "metadata": {},
   "source": [
    "Studies investigating CU-traits are generally: higher in quality, more likely to have assessed cognitive variables and brain variables, more likely to have assessed *multiple* cognitive variables, WAY more likely to have assessed those variables experimentally and with multiple assessment types rather than with self report only (81% of psychopathy studies investigating cognitive variables assessed them using only self report vs only 26% of cu-trait studies)."
   ]
  },
  {
   "cell_type": "code",
   "execution_count": 38,
   "id": "7f5850d1",
   "metadata": {},
   "outputs": [
    {
     "data": {
      "text/plain": [
       "cognitive_variable\n",
       "not assessed                                             47\n",
       "impulsivity                                              11\n",
       "reward/punishment learning                                5\n",
       "executive function                                        4\n",
       "self control                                              3\n",
       "drift rate                                                1\n",
       "disinhibition                                             1\n",
       "general cognitive ability                                 1\n",
       "empathy                                                   1\n",
       "empathy; self control; sensation seeking; impulsivity     1\n",
       "Inhibition                                                1\n",
       "self control; impulsivity                                 1\n",
       "executive function; impulsivity                           1\n",
       "impulsivity; sensation seeking; aggression                1\n",
       "Name: count, dtype: int64"
      ]
     },
     "execution_count": 38,
     "metadata": {},
     "output_type": "execute_result"
    }
   ],
   "source": [
    "#Now lets look at cognitive variables!\n",
    "df['cognitive_variable'].value_counts() \n",
    "\n"
   ]
  },
  {
   "cell_type": "code",
   "execution_count": 39,
   "id": "76cdb5c0",
   "metadata": {},
   "outputs": [
    {
     "data": {
      "text/plain": [
       "cognitive_variable\n",
       "notassessed                  0.546512\n",
       "impulsivity                  0.174419\n",
       "executivefunction            0.058140\n",
       "reward/punishmentlearning    0.058140\n",
       "selfcontrol                  0.058140\n",
       "empathy                      0.023256\n",
       "sensationseeking             0.023256\n",
       "driftrate                    0.011628\n",
       "disinhibition                0.011628\n",
       "generalcognitiveability      0.011628\n",
       "Inhibition                   0.011628\n",
       "aggression                   0.011628\n",
       "Name: proportion, dtype: float64"
      ]
     },
     "execution_count": 39,
     "metadata": {},
     "output_type": "execute_result"
    }
   ],
   "source": [
    "\\\n",
    "#Exploding cognitive variables\n",
    "df['cognitive_variable'] = df['cognitive_variable'].str.replace(' ', '') # remove spaces\n",
    "df['cognitive_variable'] = df['cognitive_variable'].str.split(';')\n",
    "df_exploded = df.explode('cognitive_variable')\n",
    "df_exploded['cognitive_variable'].value_counts(normalize=True) # 3 studies with no design data\n"
   ]
  },
  {
   "cell_type": "code",
   "execution_count": 40,
   "id": "0cdf28b3",
   "metadata": {},
   "outputs": [
    {
     "data": {
      "text/plain": [
       "behavioral_variable\n",
       "externalizingbehavior    0.219512\n",
       "aggression               0.203252\n",
       "criminalbehavior         0.203252\n",
       "substanceuse             0.138211\n",
       "conductproblems          0.130081\n",
       "ADHDsymptoms             0.024390\n",
       "prisonbehavior           0.016260\n",
       "clinicaldiagnosis        0.016260\n",
       "workplacedeviance        0.008130\n",
       "riskysexualbehavior      0.008130\n",
       "sexualviolence           0.008130\n",
       "behavioralinhibition     0.008130\n",
       "ASPDsymptoms             0.008130\n",
       "marijuanause             0.008130\n",
       "Name: proportion, dtype: float64"
      ]
     },
     "execution_count": 40,
     "metadata": {},
     "output_type": "execute_result"
    }
   ],
   "source": [
    "\\\n",
    "#Exploding behav variables\n",
    "df['behavioral_variable'] = df['behavioral_variable'].str.replace(' ', '') # remove spaces\n",
    "df['behavioral_variable'] = df['behavioral_variable'].str.split(';')\n",
    "df_exploded = df.explode('behavioral_variable')\n",
    "df_exploded['behavioral_variable'].value_counts(normalize=True) # 3 studies with no design data"
   ]
  },
  {
   "cell_type": "code",
   "execution_count": 41,
   "id": "8df19f23",
   "metadata": {},
   "outputs": [
    {
     "data": {
      "text/plain": [
       "brain_variable\n",
       "fMRI          0.666667\n",
       "rs-fMRI       0.166667\n",
       "fMRIinROIs    0.166667\n",
       "Name: proportion, dtype: float64"
      ]
     },
     "execution_count": 41,
     "metadata": {},
     "output_type": "execute_result"
    }
   ],
   "source": [
    "\n",
    "#Exploding brain variables\n",
    "df['brain_variable'] = df['brain_variable'].str.replace(' ', '') # remove spaces\n",
    "df['brain_variable'] = df['brain_variable'].str.split(';')\n",
    "df_exploded = df.explode('brain_variable')\n",
    "df_exploded['brain_variable'].value_counts(normalize=True) # 3 studies with no design data"
   ]
  },
  {
   "cell_type": "markdown",
   "id": "d0c4cec8",
   "metadata": {},
   "source": [
    "That is not surprising at all actually. \n"
   ]
  },
  {
   "cell_type": "code",
   "execution_count": 42,
   "id": "e2ea85c9",
   "metadata": {},
   "outputs": [
    {
     "data": {
      "text/plain": [
       "assessment_tool\n",
       "Inventory of Callous-Unemotional Traits (ICU)                                                          0.529412\n",
       "ABCD cu trait scale (SDQ/CBCL)                                                                         0.088235\n",
       "Youth Psychopathic Traits Inventory (YPI)                                                              0.058824\n",
       "Child Problematic Traits Inventory (CPTI)                                                              0.058824\n",
       "Antisocial Process Screening Device (APSD)                                                             0.058824\n",
       "Psychopathy Checklist: Revised (PCL-R)                                                                 0.029412\n",
       "Proposed Specifiers for Conduct Disorder Scale (PSDC)                                                  0.029412\n",
       "Psychopathy Checklist: Revised (PCL-R); Hurtful and Uncaring Behavior Scale (HUB)                      0.029412\n",
       "Teacher Report Form Interpersonal Calloussness (TRF-IC); Self Report Psychopathy Scale (SRP)           0.029412\n",
       "Achenbach System of Empirically Based Assessment (ASEBA); Youth Psychopathic Traits Inventory (YPI)    0.029412\n",
       "Callous-Unemotional Traits—Brief Measure (3 items)                                                     0.029412\n",
       "Antisocial Process Screening Device (APSD); Strengths and Difficulties Questionnaire (SDQ)             0.029412\n",
       "Name: proportion, dtype: float64"
      ]
     },
     "execution_count": 42,
     "metadata": {},
     "output_type": "execute_result"
    }
   ],
   "source": [
    "df_callous['assessment_tool'].value_counts(normalize=True)"
   ]
  },
  {
   "cell_type": "code",
   "execution_count": 43,
   "id": "4323f379",
   "metadata": {},
   "outputs": [
    {
     "ename": "NameError",
     "evalue": "name 'df_lca_outcomes' is not defined",
     "output_type": "error",
     "traceback": [
      "\u001b[1;31m---------------------------------------------------------------------------\u001b[0m",
      "\u001b[1;31mNameError\u001b[0m                                 Traceback (most recent call last)",
      "Cell \u001b[1;32mIn[43], line 5\u001b[0m\n\u001b[0;32m      2\u001b[0m \u001b[38;5;28;01mimport\u001b[39;00m \u001b[38;5;21;01mpandas\u001b[39;00m \u001b[38;5;28;01mas\u001b[39;00m \u001b[38;5;21;01mpd\u001b[39;00m\n\u001b[0;32m      4\u001b[0m \u001b[38;5;66;03m# Assuming df_lca_outcomes is your DataFrame\u001b[39;00m\n\u001b[1;32m----> 5\u001b[0m data \u001b[38;5;241m=\u001b[39m \u001b[43mdf_lca_outcomes\u001b[49m[\u001b[38;5;124m'\u001b[39m\u001b[38;5;124msolution (no. of groups and distribution)\u001b[39m\u001b[38;5;124m'\u001b[39m]\u001b[38;5;241m.\u001b[39mvalue_counts()\n\u001b[0;32m      7\u001b[0m \u001b[38;5;66;03m# Define pastel colors\u001b[39;00m\n\u001b[0;32m      8\u001b[0m colors \u001b[38;5;241m=\u001b[39m [\u001b[38;5;124m'\u001b[39m\u001b[38;5;124m#FFC1C1\u001b[39m\u001b[38;5;124m'\u001b[39m, \u001b[38;5;124m'\u001b[39m\u001b[38;5;124m#FF6961\u001b[39m\u001b[38;5;124m'\u001b[39m, \u001b[38;5;124m'\u001b[39m\u001b[38;5;124m#FFB2A7\u001b[39m\u001b[38;5;124m'\u001b[39m, \u001b[38;5;124m'\u001b[39m\u001b[38;5;124m#FFDAC1\u001b[39m\u001b[38;5;124m'\u001b[39m, \u001b[38;5;124m'\u001b[39m\u001b[38;5;124m#FF928B\u001b[39m\u001b[38;5;124m'\u001b[39m]\n",
      "\u001b[1;31mNameError\u001b[0m: name 'df_lca_outcomes' is not defined"
     ]
    }
   ],
   "source": [
    "import matplotlib.pyplot as plt\n",
    "import pandas as pd\n",
    "\n",
    "# Assuming df_lca_outcomes is your DataFrame\n",
    "data = df_lca_outcomes['solution (no. of groups and distribution)'].value_counts()\n",
    "\n",
    "# Define pastel colors\n",
    "colors = ['#FFC1C1', '#FF6961', '#FFB2A7', '#FFDAC1', '#FF928B']\n",
    "\n",
    "# Create the pie chart\n",
    "plt.figure(figsize=(8, 8))\n",
    "plt.pie(data, labels=data.index, autopct='%1.1f%%', startangle=140, colors=colors, textprops={'fontsize': 20})\n",
    "\n",
    "\n",
    "# Add a title\n",
    "plt.title('Distribution of Number of Classes')\n",
    "\n",
    "# Show the plot\n",
    "plt.show()\n"
   ]
  },
  {
   "cell_type": "code",
   "execution_count": null,
   "id": "f3305b8c",
   "metadata": {},
   "outputs": [
    {
     "name": "stderr",
     "output_type": "stream",
     "text": [
      "C:\\Users\\U727148\\AppData\\Local\\Temp\\ipykernel_37752\\2754170503.py:2: SettingWithCopyWarning: \n",
      "A value is trying to be set on a copy of a slice from a DataFrame.\n",
      "Try using .loc[row_indexer,col_indexer] = value instead\n",
      "\n",
      "See the caveats in the documentation: https://pandas.pydata.org/pandas-docs/stable/user_guide/indexing.html#returning-a-view-versus-a-copy\n",
      "  df_psychopathic['assessment_tool'] = df_psychopathic['assessment_tool'].str.split('; ')\n"
     ]
    },
    {
     "data": {
      "text/plain": [
       "assessment_tool\n",
       "Psychopathy Checklist: Revised (PCL-R)                              0.228070\n",
       "Self Report Psychopathy Scale (SRP)                                 0.157895\n",
       "Youth Psychopathic Traits Inventory (YPI)                           0.122807\n",
       "Levenson Self Report Psychopathy Rating scale (LSRP)                0.105263\n",
       "Triarchic Psychopathy Measure (TriPM)                               0.087719\n",
       "Psychopathic Personality Inventory (PPI)                            0.070175\n",
       "Dark Triad Dirty Dozen                                              0.035088\n",
       "Child Problematic Traits Inventory (CPTI)                           0.017544\n",
       "Minnesota Temperament Inventory (MTI)                               0.017544\n",
       "Psychopathic Personality Traits Scale (PPTS)                        0.017544\n",
       "Comprehensive Assessment of Psychopathic Personality (CAPP)         0.017544\n",
       "Minnesota Multiphasic Personality Inventory-Triarchic (MMPI-Tri)    0.017544\n",
       "NEO Five-Factor Inventory (NEO-FFI)                                 0.017544\n",
       "Short Psychopathy Rating Scale (SPRS)                               0.017544\n",
       "Antisocial Process Screening Device (APSD)                          0.017544\n",
       "Short Dark Tetrad (SD4)                                             0.017544\n",
       "Elemental Psychopathy Assessment (EPA)                              0.017544\n",
       "Psychoapthic Personality Inventory (PPI)                            0.017544\n",
       "Name: proportion, dtype: float64"
      ]
     },
     "execution_count": 176,
     "metadata": {},
     "output_type": "execute_result"
    }
   ],
   "source": [
    "\n",
    "#Exploding psychopathic tools variables\n",
    "df_psychopathic['assessment_tool'] = df_psychopathic['assessment_tool'].str.split('; ') \n",
    "df_Psych_exploded = df_psychopathic.explode('assessment_tool')\n",
    "df_Psych_exploded['assessment_tool'].value_counts(normalize=True) "
   ]
  },
  {
   "cell_type": "code",
   "execution_count": null,
   "id": "2eee19d9",
   "metadata": {},
   "outputs": [
    {
     "name": "stderr",
     "output_type": "stream",
     "text": [
      "C:\\Users\\U727148\\AppData\\Local\\Temp\\ipykernel_37752\\1316207933.py:2: SettingWithCopyWarning: \n",
      "A value is trying to be set on a copy of a slice from a DataFrame.\n",
      "Try using .loc[row_indexer,col_indexer] = value instead\n",
      "\n",
      "See the caveats in the documentation: https://pandas.pydata.org/pandas-docs/stable/user_guide/indexing.html#returning-a-view-versus-a-copy\n",
      "  df_callous['assessment_tool'] = df_callous['assessment_tool'].str.split('; ')\n"
     ]
    },
    {
     "data": {
      "text/plain": [
       "assessment_tool\n",
       "Inventory of Callous-Unemotional Traits (ICU)               0.473684\n",
       "Youth Psychopathic Traits Inventory (YPI)                   0.078947\n",
       "ABCD cu trait scale (SDQ/CBCL)                              0.078947\n",
       "Antisocial Process Screening Device (APSD)                  0.078947\n",
       "Psychopathy Checklist: Revised (PCL-R)                      0.052632\n",
       "Child Problematic Traits Inventory (CPTI)                   0.052632\n",
       "Proposed Specifiers for Conduct Disorder Scale (PSDC)       0.026316\n",
       "Hurtful and Uncaring Behavior Scale (HUB)                   0.026316\n",
       "Teacher Report Form Interpersonal Calloussness (TRF-IC)     0.026316\n",
       "Self Report Psychopathy Scale (SRP)                         0.026316\n",
       "Achenbach System of Empirically Based Assessment (ASEBA)    0.026316\n",
       "Callous-Unemotional Traits—Brief Measure (3 items)          0.026316\n",
       "Strengths and Difficulties Questionnaire (SDQ)              0.026316\n",
       "Name: proportion, dtype: float64"
      ]
     },
     "execution_count": 180,
     "metadata": {},
     "output_type": "execute_result"
    }
   ],
   "source": [
    "\n",
    "#Exploding callpus assessment tool variables\n",
    "df_callous['assessment_tool'] = df_callous['assessment_tool'].str.split('; ') \n",
    "df_call_exploded = df_callous.explode('assessment_tool')\n",
    "df_call_exploded['assessment_tool'].value_counts(normalize=True) "
   ]
  },
  {
   "cell_type": "code",
   "execution_count": null,
   "id": "cf4f101d",
   "metadata": {},
   "outputs": [
    {
     "name": "stderr",
     "output_type": "stream",
     "text": [
      "C:\\Users\\U727148\\AppData\\Local\\Temp\\ipykernel_37752\\115406066.py:1: SettingWithCopyWarning: \n",
      "A value is trying to be set on a copy of a slice from a DataFrame.\n",
      "Try using .loc[row_indexer,col_indexer] = value instead\n",
      "\n",
      "See the caveats in the documentation: https://pandas.pydata.org/pandas-docs/stable/user_guide/indexing.html#returning-a-view-versus-a-copy\n",
      "  df_callous['behavioral_assessment_type'] = df_callous['behavioral_assessment_type'].str.split('; ')\n"
     ]
    },
    {
     "data": {
      "text/plain": [
       "behavioral_assessment_type\n",
       "other report           0.452381\n",
       "self report            0.309524\n",
       "clinical assessment    0.166667\n",
       "criminal record        0.047619\n",
       "observational          0.023810\n",
       "Name: proportion, dtype: float64"
      ]
     },
     "execution_count": 186,
     "metadata": {},
     "output_type": "execute_result"
    }
   ],
   "source": [
    "\n",
    "df_callous['behavioral_assessment_type'] = df_callous['behavioral_assessment_type'].str.split('; ') \n",
    "df_Psych_exploded = df_callous.explode('behavioral_assessment_type')\n",
    "df_Psych_exploded['behavioral_assessment_type'].value_counts(normalize=True) "
   ]
  },
  {
   "cell_type": "code",
   "execution_count": null,
   "id": "490c3327",
   "metadata": {},
   "outputs": [
    {
     "name": "stderr",
     "output_type": "stream",
     "text": [
      "C:\\Users\\U727148\\AppData\\Local\\Temp\\ipykernel_37752\\1124396358.py:1: SettingWithCopyWarning: \n",
      "A value is trying to be set on a copy of a slice from a DataFrame.\n",
      "Try using .loc[row_indexer,col_indexer] = value instead\n",
      "\n",
      "See the caveats in the documentation: https://pandas.pydata.org/pandas-docs/stable/user_guide/indexing.html#returning-a-view-versus-a-copy\n",
      "  df_psychopathic['behavioral_assessment_type'] = df_psychopathic['behavioral_assessment_type'].str.split('; ')\n"
     ]
    },
    {
     "data": {
      "text/plain": [
       "behavioral_assessment_type\n",
       "self report            0.627451\n",
       "observational          0.156863\n",
       "other report           0.058824\n",
       "clinical assessment    0.058824\n",
       "criminal record        0.058824\n",
       "interview              0.039216\n",
       "Name: proportion, dtype: float64"
      ]
     },
     "execution_count": 187,
     "metadata": {},
     "output_type": "execute_result"
    }
   ],
   "source": [
    "\n",
    "df_psychopathic['behavioral_assessment_type'] = df_psychopathic['behavioral_assessment_type'].str.split('; ') \n",
    "df_Psych_exploded = df_psychopathic.explode('behavioral_assessment_type')\n",
    "df_Psych_exploded['behavioral_assessment_type'].value_counts(normalize=True) "
   ]
  },
  {
   "cell_type": "markdown",
   "id": "f1213750",
   "metadata": {},
   "source": [
    "And here also we see a higher unification towards one scale in cu traits rather than psychopathic traits! Entropy? Interestengly, when it comes to behavioral_assessment_type, we see a larger share of self report, but this is often mixed with other indicators such as criminal record, clinical assessments, and observational evidence. In CU-traits, we seem to mostly rely on other report (parent/teacher). Multiple assessments are less common."
   ]
  },
  {
   "cell_type": "code",
   "execution_count": null,
   "id": "d9a6be3f",
   "metadata": {},
   "outputs": [
    {
     "data": {
      "text/plain": [
       "Index(['Unnamed: 0.1', 'Unnamed: 0', 'index', 'name', 'f_author', 'year',\n",
       "       'all_authors', 'journal', 'journal_5_y_if', 'Name_dataset',\n",
       "       'region_dataset', 'dataset_notes', 'sample_size', 'age_range',\n",
       "       'age_mean', 'age_SD', 'demographics', 'gender_percent_female',\n",
       "       'institutional_sample', 'phenotypes', 'p_or_cu', 'assessment_tool',\n",
       "       'assessment_type', 'place_in_model', 'cognitive_variable',\n",
       "       'cognitive_assessment', 'cognitive_assessment_type',\n",
       "       'behavioral_variable ', 'behavioral_assessment',\n",
       "       'behavioral_assessment_type', 'brain_variable ', 'brain_assessment',\n",
       "       'ROI', 'dummy_B_C_B', 'feature_predictors', 'design', 'goal',\n",
       "       'general_model', 'model_in_text', 'other_analyses', 'groups',\n",
       "       'outcome_comment', 'outcome_variable', 'directionality',\n",
       "       'pred_intervall', 'outcome_variable.1', 'outcome_variable_value',\n",
       "       'outcome_variable_value_p', 'substance_use', 'substance ',\n",
       "       'comorbidity', 'comorbidity_type',\n",
       "       'Is the research objective clearly stated?',\n",
       "       'Is the study population clearly specified and defined (i.e., clearly stated and justified in- and exclusion criteria)?',\n",
       "       ' Is setting adequately reported (i.e., region(s) of data collection, relevant dates, period of recruitment, use in other studies)?',\n",
       "       ' Is there a justification for sample size (i.e. power analysis)? Is the sampling procedure adequately explained?',\n",
       "       'Is the case definition adequate (i.e. diagnosis is carried out with DSM or ICD or similarly recognized and validated questionnaire)?',\n",
       "       'If there is a control group/does the group have sufficient range? is there adequate control of confounding variables e.g. through matching?',\n",
       "       ' Is missing data/dropout addressed (how is missing data handled, is it reported why data is missing)?',\n",
       "       'Are the use of statistical methods adequately justified? are all tests reported?',\n",
       "       'Are sample demographics reported adequately?',\n",
       "       ' Are all results for all variables reported?',\n",
       "       'Reported quality or Goodness of fit indices (at least 2, ideally 3)',\n",
       "       'quality_score', 'age_range2', 'quality_score2', 'general_model2',\n",
       "       'place_in_model2', 'type_color', 'behavioral_variable', 'age_mean_calc',\n",
       "       'institutional_sample2', 'brain_variable', 'direction_lowgranular',\n",
       "       'nameyear', 'gm_counts', 'mit_counts', 'cog_counts', 'beh_counts',\n",
       "       'atool_counts', 'ctool_counts', 'btool_counts', 'amodality_counts',\n",
       "       'cmodality_counts', 'bmodality_counts'],\n",
       "      dtype='object')"
      ]
     },
     "execution_count": 190,
     "metadata": {},
     "output_type": "execute_result"
    }
   ],
   "source": [
    "df.columns"
   ]
  },
  {
   "cell_type": "code",
   "execution_count": null,
   "id": "feb07ca0",
   "metadata": {},
   "outputs": [],
   "source": [
    "#Next, we make some sankey plots to visualize the data\n",
    "#First, we make a sankey plot of the sample types and designs\n",
    "#creating a nameyear variable \n",
    "df['nameyear'] = df['f_author'] + ' ' + df['year'].astype(str)\n",
    "#creating a sankey plot of the sample types and designs\n",
    "df_sankey = df[['Name_dataset', \n",
    "                'design', \n",
    "                'general_model', \n",
    "                'nameyear', \n",
    "                'model_in_text', \n",
    "                'other_analyses', \n",
    "                'p_or_cu', \n",
    "                'directionality', \n",
    "                'assessment_tool', \n",
    "                'assessment_type', \n",
    "                'cognitive_assessment_type',\n",
    "                'cognitive_assessment',\n",
    "                'behavioral_assessment_type', \n",
    "                'behavioral_variable', \n",
    "                'behavioral_assessment']].copy()"
   ]
  },
  {
   "cell_type": "code",
   "execution_count": null,
   "id": "33944a0f",
   "metadata": {},
   "outputs": [
    {
     "data": {
      "text/plain": [
       "behavioral_assessment_type\n",
       "self report                                   33\n",
       "other report                                  17\n",
       "clinical assessment                            6\n",
       "self report; observational                     5\n",
       "observational                                  3\n",
       "self report; other report                      3\n",
       "self report; criminal record                   2\n",
       "other report; clinical assessment              2\n",
       "criminal record                                2\n",
       "clinical assessment; observational             1\n",
       "interview                                      1\n",
       "other report; self report; criminal record     1\n",
       "interview; criminal record                     1\n",
       "self report; clinical assessment               1\n",
       "self report; interview                         1\n",
       "Name: count, dtype: int64"
      ]
     },
     "execution_count": 322,
     "metadata": {},
     "output_type": "execute_result"
    }
   ],
   "source": [
    "df['behavioral_assessment_type'].value_counts() # 3 studies with no design data"
   ]
  },
  {
   "cell_type": "code",
   "execution_count": null,
   "id": "e032c6df",
   "metadata": {},
   "outputs": [],
   "source": [
    "#adding _count variables for each of the columns based on the value counts \n",
    "df_sankey['Name_dataset_count'] = df_sankey['Name_dataset'].map(df_sankey['Name_dataset'].value_counts())\n",
    "df_sankey['design_count'] = df_sankey['design'].map(df_sankey['design'].value_counts())\n",
    "df_sankey['general_model_count'] = df_sankey['general_model'].map(df_sankey['general_model'].value_counts())\n",
    "df_sankey['nameyear_count'] = df_sankey['nameyear'].map(df_sankey['nameyear'].value_counts())\n",
    "df_sankey['model_in_text_count'] = df_sankey['model_in_text'].map(df_sankey['model_in_text'].value_counts())\n",
    "df_sankey['other_analyses_count'] = df_sankey['other_analyses'].map(df_sankey['other_analyses'].value_counts())\n",
    "df_sankey['p_or_cu_count'] = df_sankey['p_or_cu'].map(df_sankey['p_or_cu'].value_counts())\n",
    "df_sankey['directionality_count'] = df_sankey['directionality'].map(df_sankey['directionality'].value_counts())\n",
    "df_sankey['assessment_tool_count'] = df_sankey['assessment_tool'].map(df_sankey['assessment_tool'].value_counts())\n",
    "df_sankey['assessment_type_count'] = df_sankey['assessment_type'].map(df_sankey['assessment_type'].value_counts())\n",
    "df_sankey['cognitive_assessment_type_count'] = df_sankey['cognitive_assessment_type'].map(df_sankey['cognitive_assessment_type'].value_counts())\n",
    "df_sankey['behavioral_assessment_type_count'] = df_sankey['behavioral_assessment_type'].map(df_sankey['behavioral_assessment_type'].value_counts())\n",
    "df_sankey['cognitive_assessment_count'] = df_sankey['cognitive_assessment'].map(df_sankey['cognitive_assessment'].value_counts())\n",
    "df_sankey['behavioral_assessment_count'] = df_sankey['behavioral_assessment'].map(df_sankey['behavioral_assessment'].value_counts())\n"
   ]
  },
  {
   "cell_type": "code",
   "execution_count": null,
   "id": "f6c5390e",
   "metadata": {},
   "outputs": [],
   "source": [
    "#making subsets of the data for the sankey plots\n",
    "df_sankey_models = df_sankey[['general_model', 'model_in_text', 'other_analyses', 'nameyear', 'general_model_count', 'model_in_text_count', 'other_analyses_count']].copy()\n",
    "df_sankey_models['general_model2'] = df_sankey_models['general_model'].str.split(';').str[0]\n",
    "df_sankey_models['general_model3'] = df_sankey_models['general_model'].str.split(';').str[1]\n",
    "df_sankey_models['general_model4'] = df_sankey_models['general_model'].str.split(';').str[2]\n",
    "#do this for model_in_text as well\n",
    "df_sankey_models['model_in_text2'] = df_sankey_models['model_in_text'].str.split(';').str[0]\n",
    "df_sankey_models['model_in_text3'] = df_sankey_models['model_in_text'].str.split(';').str[1]\n",
    "df_sankey_models['model_in_text4'] = df_sankey_models['model_in_text'].str.split(';').str[2]\n",
    "df_sankey_models['model_in_text5'] = df_sankey_models['model_in_text'].str.split(';').str[3]\n",
    "#same for other_analyses\n",
    "df_sankey_models['other_analyses2'] = df_sankey_models['other_analyses'].str.split(';').str[0]\n",
    "df_sankey_models['other_analyses3'] = df_sankey_models['other_analyses'].str.split(';').str[1]\n",
    "df_sankey_models['other_analyses4'] = df_sankey_models['other_analyses'].str.split(';').str[2]\n",
    "df_sankey_models['other_analyses5'] = df_sankey_models['other_analyses'].str.split(';').str[3]\n",
    "\n"
   ]
  },
  {
   "cell_type": "code",
   "execution_count": null,
   "id": "3e856642",
   "metadata": {},
   "outputs": [],
   "source": [
    "def transform_df(df):\n",
    "    new_rows = []\n",
    "\n",
    "    for idx, row in df.iterrows():\n",
    "        # Extract the non-NaN values from 'c' and 'a' columns\n",
    "        gm = row[['general_model2', 'general_model3', 'general_model4']].dropna().tolist()\n",
    "        mit = row[['model_in_text2', 'model_in_text3', 'model_in_text4']].dropna().tolist()\n",
    "        oa = row[['other_analyses2', 'other_analyses3', 'other_analyses4']].dropna().tolist()\n",
    "\n",
    "        # Make sure both lists are the same length by padding with NaN\n",
    "        max_len = max(len(gm), len(mit))\n",
    "        gm.extend([float('nan')] * (max_len - len(gm)))\n",
    "        mit.extend([float('nan')] * (max_len - len(mit)))\n",
    "        oa.extend([float('nan')] * (max_len - len(oa)))\n",
    "\n",
    "        # Create new rows with paired values and the 'nameyear'\n",
    "        for gm, mit, oa in zip(gm, mit, oa):\n",
    "            new_rows.append([row['nameyear'], gm, mit, oa])\n",
    "\n",
    "    # Create a new DataFrame from the rows\n",
    "    result_df = pd.DataFrame(new_rows, columns=['nameyear', 'gm', 'mit', 'oa'])\n",
    "    return result_df"
   ]
  },
  {
   "cell_type": "code",
   "execution_count": null,
   "id": "69b36888",
   "metadata": {},
   "outputs": [
    {
     "data": {
      "text/html": [
       "<div>\n",
       "<style scoped>\n",
       "    .dataframe tbody tr th:only-of-type {\n",
       "        vertical-align: middle;\n",
       "    }\n",
       "\n",
       "    .dataframe tbody tr th {\n",
       "        vertical-align: top;\n",
       "    }\n",
       "\n",
       "    .dataframe thead th {\n",
       "        text-align: right;\n",
       "    }\n",
       "</style>\n",
       "<table border=\"1\" class=\"dataframe\">\n",
       "  <thead>\n",
       "    <tr style=\"text-align: right;\">\n",
       "      <th></th>\n",
       "      <th>nameyear</th>\n",
       "      <th>gm</th>\n",
       "      <th>mit</th>\n",
       "      <th>oa</th>\n",
       "    </tr>\n",
       "  </thead>\n",
       "  <tbody>\n",
       "    <tr>\n",
       "      <th>0</th>\n",
       "      <td>Winters 2025</td>\n",
       "      <td>factor analysis</td>\n",
       "      <td>EF brain model (CFA with connectivity density ...</td>\n",
       "      <td>connectivity density and interaction (CU &amp; CP)...</td>\n",
       "    </tr>\n",
       "    <tr>\n",
       "      <th>1</th>\n",
       "      <td>Ciesenski 2024</td>\n",
       "      <td>latent class analysis</td>\n",
       "      <td>latent class analysis</td>\n",
       "      <td>chi squared test</td>\n",
       "    </tr>\n",
       "    <tr>\n",
       "      <th>2</th>\n",
       "      <td>Kemp 2024</td>\n",
       "      <td>factor analysis</td>\n",
       "      <td>confirmatory factor analysis</td>\n",
       "      <td>negative binomial regression</td>\n",
       "    </tr>\n",
       "    <tr>\n",
       "      <th>3</th>\n",
       "      <td>Kemp 2024</td>\n",
       "      <td>NaN</td>\n",
       "      <td>multitrait–multimethod (MT-MM) design</td>\n",
       "      <td>NaN</td>\n",
       "    </tr>\n",
       "    <tr>\n",
       "      <th>4</th>\n",
       "      <td>Castagna 2024</td>\n",
       "      <td>computational modeling</td>\n",
       "      <td>drift diffusion model</td>\n",
       "      <td>regression</td>\n",
       "    </tr>\n",
       "    <tr>\n",
       "      <th>...</th>\n",
       "      <td>...</td>\n",
       "      <td>...</td>\n",
       "      <td>...</td>\n",
       "      <td>...</td>\n",
       "    </tr>\n",
       "    <tr>\n",
       "      <th>87</th>\n",
       "      <td>Nijhof 2011</td>\n",
       "      <td>latent class analysis</td>\n",
       "      <td>latent class analysis</td>\n",
       "      <td>NaN</td>\n",
       "    </tr>\n",
       "    <tr>\n",
       "      <th>88</th>\n",
       "      <td>Neumann 2010</td>\n",
       "      <td>structural equation modeling</td>\n",
       "      <td>structural equation modeling</td>\n",
       "      <td>correlation</td>\n",
       "    </tr>\n",
       "    <tr>\n",
       "      <th>89</th>\n",
       "      <td>Blonigen 2010</td>\n",
       "      <td>factor analysis</td>\n",
       "      <td>confirmatory factor analysis</td>\n",
       "      <td>correlation</td>\n",
       "    </tr>\n",
       "    <tr>\n",
       "      <th>90</th>\n",
       "      <td>Kimonis 2008</td>\n",
       "      <td>factor analysis</td>\n",
       "      <td>confirmatory factor analysis</td>\n",
       "      <td>correlation</td>\n",
       "    </tr>\n",
       "    <tr>\n",
       "      <th>91</th>\n",
       "      <td>Vitacco 2006</td>\n",
       "      <td>factor analysis</td>\n",
       "      <td>confirmatory factor analysis</td>\n",
       "      <td>correlation</td>\n",
       "    </tr>\n",
       "  </tbody>\n",
       "</table>\n",
       "<p>92 rows × 4 columns</p>\n",
       "</div>"
      ],
      "text/plain": [
       "          nameyear                            gm  \\\n",
       "0     Winters 2025               factor analysis   \n",
       "1   Ciesenski 2024         latent class analysis   \n",
       "2        Kemp 2024               factor analysis   \n",
       "3        Kemp 2024                           NaN   \n",
       "4    Castagna 2024        computational modeling   \n",
       "..             ...                           ...   \n",
       "87     Nijhof 2011         latent class analysis   \n",
       "88    Neumann 2010  structural equation modeling   \n",
       "89   Blonigen 2010               factor analysis   \n",
       "90    Kimonis 2008               factor analysis   \n",
       "91    Vitacco 2006               factor analysis   \n",
       "\n",
       "                                                  mit  \\\n",
       "0   EF brain model (CFA with connectivity density ...   \n",
       "1                               latent class analysis   \n",
       "2                        confirmatory factor analysis   \n",
       "3               multitrait–multimethod (MT-MM) design   \n",
       "4                               drift diffusion model   \n",
       "..                                                ...   \n",
       "87                              latent class analysis   \n",
       "88                       structural equation modeling   \n",
       "89                       confirmatory factor analysis   \n",
       "90                       confirmatory factor analysis   \n",
       "91                       confirmatory factor analysis   \n",
       "\n",
       "                                                   oa  \n",
       "0   connectivity density and interaction (CU & CP)...  \n",
       "1                                   chi squared test   \n",
       "2                        negative binomial regression  \n",
       "3                                                 NaN  \n",
       "4                                          regression  \n",
       "..                                                ...  \n",
       "87                                                NaN  \n",
       "88                                        correlation  \n",
       "89                                        correlation  \n",
       "90                                        correlation  \n",
       "91                                        correlation  \n",
       "\n",
       "[92 rows x 4 columns]"
      ]
     },
     "execution_count": 209,
     "metadata": {},
     "output_type": "execute_result"
    }
   ],
   "source": [
    "df_sankey_models_transformed = transform_df(df_sankey_models)\n",
    "df_sankey_models_transformed"
   ]
  },
  {
   "cell_type": "code",
   "execution_count": null,
   "id": "51a9d781",
   "metadata": {},
   "outputs": [],
   "source": [
    "#add _count variables for each of the columns based on the value counts\n",
    "df_sankey_models_transformed['nameyear_count'] = df_sankey_models_transformed['nameyear'].map(df_sankey_models_transformed['nameyear'].value_counts())\n",
    "df_sankey_models_transformed['gm_count'] = df_sankey_models_transformed['gm'].map(df_sankey_models_transformed['gm'].value_counts())\n",
    "df_sankey_models_transformed['mit_count'] = df_sankey_models_transformed['mit'].map(df_sankey_models_transformed['mit'].value_counts())\n",
    "df_sankey_models_transformed['oa_count'] = df_sankey_models_transformed['oa'].map(df_sankey_models_transformed['oa'].value_counts())"
   ]
  },
  {
   "cell_type": "code",
   "execution_count": null,
   "id": "88569fa6",
   "metadata": {},
   "outputs": [],
   "source": [
    "df_sankey_models_transformed['gm'] = df_sankey_models_transformed['gm'].replace(['structural equation modeling', 'structural equation modeling ', ' structural equation modeling'], 'SEM')\n",
    "df_sankey_models_transformed['gm'] = df_sankey_models_transformed['gm'].replace(['latent class analysis', 'latent class analysis ', ' latent class analysis'], 'LCA')\n"
   ]
  },
  {
   "cell_type": "code",
   "execution_count": null,
   "id": "3cb77af9",
   "metadata": {},
   "outputs": [],
   "source": [
    "#read in data for the sankey plot\n",
    "df_sankey_models_transformed = pd.read_excel('dfsankeymodels_updated_20250424.xlsx')"
   ]
  },
  {
   "cell_type": "code",
   "execution_count": null,
   "id": "0d91fab0",
   "metadata": {},
   "outputs": [
    {
     "ename": "TypeError",
     "evalue": "unhashable type: 'list'",
     "output_type": "error",
     "traceback": [
      "\u001b[1;31m---------------------------------------------------------------------------\u001b[0m",
      "\u001b[1;31mTypeError\u001b[0m                                 Traceback (most recent call last)",
      "Cell \u001b[1;32mIn[235], line 4\u001b[0m\n\u001b[0;32m      1\u001b[0m \u001b[38;5;66;03m# MAKING THE SANKEY GRAPH\u001b[39;00m\n\u001b[0;32m      2\u001b[0m \u001b[38;5;66;03m# Create the unique labels for the nodes, including the new column\u001b[39;00m\n\u001b[0;32m      3\u001b[0m \u001b[38;5;66;03m# Define your own color mapping for each gm and oa category\u001b[39;00m\n\u001b[1;32m----> 4\u001b[0m gm_color_map \u001b[38;5;241m=\u001b[39m {[\n\u001b[0;32m      5\u001b[0m     \u001b[38;5;124m'\u001b[39m\u001b[38;5;124mrgba(31, 119, 180, 0.8)\u001b[39m\u001b[38;5;124m'\u001b[39m,\n\u001b[0;32m      6\u001b[0m     \u001b[38;5;124m'\u001b[39m\u001b[38;5;124mrgba(255, 127, 14, 0.8)\u001b[39m\u001b[38;5;124m'\u001b[39m,\n\u001b[0;32m      7\u001b[0m     \u001b[38;5;124m'\u001b[39m\u001b[38;5;124mrgba(44, 160, 44, 0.8)\u001b[39m\u001b[38;5;124m'\u001b[39m,\n\u001b[0;32m      8\u001b[0m     \u001b[38;5;124m'\u001b[39m\u001b[38;5;124mrgba(214, 39, 40, 0.8)\u001b[39m\u001b[38;5;124m'\u001b[39m,\n\u001b[0;32m      9\u001b[0m     \u001b[38;5;124m'\u001b[39m\u001b[38;5;124mrgba(148, 103, 189, 0.8)\u001b[39m\u001b[38;5;124m'\u001b[39m,\n\u001b[0;32m     10\u001b[0m     \u001b[38;5;124m'\u001b[39m\u001b[38;5;124mrgba(140, 86, 75, 0.8)\u001b[39m\u001b[38;5;124m'\u001b[39m]\n\u001b[0;32m     11\u001b[0m }\n\u001b[0;32m     12\u001b[0m oa_color_map \u001b[38;5;241m=\u001b[39m {[\n\u001b[0;32m     13\u001b[0m     \u001b[38;5;124m'\u001b[39m\u001b[38;5;124mrgba(31, 119, 180, 0.8)\u001b[39m\u001b[38;5;124m'\u001b[39m,\n\u001b[0;32m     14\u001b[0m     \u001b[38;5;124m'\u001b[39m\u001b[38;5;124mrgba(255, 127, 14, 0.8)\u001b[39m\u001b[38;5;124m'\u001b[39m,\n\u001b[1;32m   (...)\u001b[0m\n\u001b[0;32m     19\u001b[0m ]\n\u001b[0;32m     20\u001b[0m }\n\u001b[0;32m     21\u001b[0m \u001b[38;5;66;03m# Map colors for each link\u001b[39;00m\n",
      "\u001b[1;31mTypeError\u001b[0m: unhashable type: 'list'"
     ]
    }
   ],
   "source": [
    "# MAKING THE SANKEY GRAPH\n",
    "# Create the unique labels for the nodes, including the new column\n",
    "# Define your own color mapping for each gm and oa category\n",
    "gm_color_map = {[\n",
    "    'rgba(31, 119, 180, 0.8)',\n",
    "    'rgba(255, 127, 14, 0.8)',\n",
    "    'rgba(44, 160, 44, 0.8)',\n",
    "    'rgba(214, 39, 40, 0.8)',\n",
    "    'rgba(148, 103, 189, 0.8)',\n",
    "    'rgba(140, 86, 75, 0.8)']\n",
    "}\n",
    "oa_color_map = {[\n",
    "    'rgba(31, 119, 180, 0.8)',\n",
    "    'rgba(255, 127, 14, 0.8)',\n",
    "    'rgba(44, 160, 44, 0.8)',\n",
    "    'rgba(214, 39, 40, 0.8)',\n",
    "    'rgba(148, 103, 189, 0.8)',\n",
    "    'rgba(140, 86, 75, 0.8)'\n",
    "]\n",
    "}\n",
    "# Map colors for each link\n",
    "colors_source_to_mid = df_sankey_models_transformed['gm'].map(gm_color_map).tolist()\n",
    "colors_mid_to_target = df_sankey_models_transformed['oa'].map(oa_color_map).tolist()\n",
    "\n",
    "link_colors = colors_source_to_mid + colors_mid_to_target\n",
    "\n",
    "\n",
    "labels = list(pd.concat([df_sankey_models_transformed['gm'], df_sankey_models_transformed['mit'], df_sankey_models_transformed['oa']]).unique())\n",
    "\n",
    "# Map labels to indices\n",
    "label_map = {label: idx for idx, label in enumerate(labels)}\n",
    "\n",
    "# Define the sources, targets, and values based on your dataframe\n",
    "sources = df_sankey_models_transformed['gm'].map(label_map).tolist() + df_sankey_models_transformed['mit'].map(label_map).tolist()\n",
    "targets = df_sankey_models_transformed['mit'].map(label_map).tolist() + df_sankey_models_transformed['oa'].map(label_map).tolist()\n",
    "values = df_sankey_models_transformed['gm_count'].tolist() + df_sankey_models_transformed['oa_count'].tolist()\n",
    "\n",
    "# Create the Sankey plot using Plotly\n",
    "fig = go.Figure(data=[go.Sankey(\n",
    "    node=dict(\n",
    "        pad=15, \n",
    "        thickness=20,\n",
    "        line=dict(color=\"black\", width=0.9),\n",
    "        label=labels,\n",
    "        align=\"left\"\n",
    "    ),\n",
    "    link=dict(\n",
    "        source=sources,\n",
    "        target=targets,\n",
    "        value=values,\n",
    "        color=link_colors,\n",
    "        customdata=df_sankey_models_transformed['nameyear'].tolist() + df_sankey_models_transformed['nameyear'].tolist(),  \n",
    "        hovertemplate='%{customdata}<extra></extra>',\n",
    "        hovercolor='rgb(0,0,0.5)'\n",
    "    ))])\n",
    "\n",
    "fig.update_layout(title_text=\"Sankey Diagram for model types\", font_size=14, width=1500, height=800, hovermode='x')\n",
    "fig.show()"
   ]
  },
  {
   "cell_type": "code",
   "execution_count": null,
   "id": "a64801a1",
   "metadata": {},
   "outputs": [
    {
     "data": {
      "application/vnd.plotly.v1+json": {
       "config": {
        "plotlyServerURL": "https://plot.ly"
       },
       "data": [
        {
         "link": {
          "color": [
           "rgba(223,138,113,0.6)",
           "rgba(122,164,234,0.6)",
           "rgba(223,138,113,0.6)",
           "rgba(223,138,113,0.6)",
           "rgba(162,249,205,0.6)",
           "rgba(151,168,234,0.6)",
           "rgba(162,249,205,0.6)",
           "rgba(122,164,234,0.6)",
           "rgba(223,138,113,0.6)",
           "rgba(122,164,234,0.6)",
           "rgba(223,138,113,0.6)",
           "rgba(122,164,234,0.6)",
           "rgba(223,138,113,0.6)",
           "rgba(122,164,234,0.6)",
           "rgba(176,160,216,0.6)",
           "rgba(167,193,233,0.6)",
           "rgba(174,209,157,0.6)",
           "rgba(174,209,157,0.6)",
           "rgba(223,138,113,0.6)",
           "rgba(223,138,113,0.6)",
           "rgba(122,164,234,0.6)",
           "rgba(122,164,234,0.6)",
           "rgba(122,164,234,0.6)",
           "rgba(151,168,234,0.6)",
           "rgba(223,138,113,0.6)",
           "rgba(176,160,216,0.6)",
           "rgba(223,138,113,0.6)",
           "rgba(122,164,234,0.6)",
           "rgba(110,198,252,0.6)",
           "rgba(223,138,113,0.6)",
           "rgba(122,164,234,0.6)",
           "rgba(122,164,234,0.6)",
           "rgba(151,168,234,0.6)",
           "rgba(151,168,234,0.6)",
           "rgba(122,164,234,0.6)",
           "rgba(122,164,234,0.6)",
           "rgba(223,138,113,0.6)",
           "rgba(174,209,157,0.6)",
           "rgba(176,160,216,0.6)",
           "rgba(122,164,234,0.6)",
           "rgba(174,209,157,0.6)",
           "rgba(223,138,113,0.6)",
           "rgba(176,160,216,0.6)",
           "rgba(223,138,113,0.6)",
           "rgba(122,164,234,0.6)",
           "rgba(122,164,234,0.6)",
           "rgba(223,138,113,0.6)",
           "rgba(122,164,234,0.6)",
           "rgba(122,164,234,0.6)",
           "rgba(122,164,234,0.6)",
           "rgba(176,160,216,0.6)",
           "rgba(223,138,113,0.6)",
           "rgba(110,198,252,0.6)",
           "rgba(151,168,234,0.6)",
           "rgba(122,164,234,0.6)",
           "rgba(122,164,234,0.6)",
           "rgba(122,164,234,0.6)",
           "rgba(176,160,216,0.6)",
           "rgba(223,138,113,0.6)",
           "rgba(151,168,234,0.6)",
           "rgba(176,160,216,0.6)",
           "rgba(122,164,234,0.6)",
           "rgba(122,164,234,0.6)",
           "rgba(122,164,234,0.6)",
           "rgba(151,168,234,0.6)",
           "rgba(151,168,234,0.6)",
           "rgba(176,160,216,0.6)",
           "rgba(122,164,234,0.6)",
           "rgba(176,160,216,0.6)",
           "rgba(223,138,113,0.6)",
           "rgba(151,168,234,0.6)",
           "rgba(122,164,234,0.6)",
           "rgba(122,164,234,0.6)",
           "rgba(176,160,216,0.6)",
           "rgba(122,164,234,0.6)",
           "rgba(122,164,234,0.6)",
           "rgba(122,164,234,0.6)",
           "rgba(122,164,234,0.6)",
           "rgba(223,138,113,0.6)",
           "rgba(223,138,113,0.6)",
           "rgba(174,209,157,0.6)",
           "rgba(176,160,216,0.6)",
           "rgba(122,164,234,0.6)",
           "rgba(122,164,234,0.6)",
           "rgba(151,168,234,0.6)",
           "rgba(134,138,202,0.6)",
           "rgba(223,138,113,0.6)",
           "rgba(122,164,234,0.6)",
           "rgba(151,168,234,0.6)",
           "rgba(223,138,113,0.6)",
           "rgba(223,138,113,0.6)",
           "rgba(223,138,113,0.6)",
           "rgba(239,138,255,0.6)",
           "rgba(141,121,104,0.6)",
           "rgba(155,178,128,0.6)",
           "rgba(206,199,205,0.6)",
           "rgba(172,140,195,0.6)",
           "rgba(129,180,170,0.6)",
           "rgba(169,110,222,0.6)",
           "rgba(103,201,199,0.6)",
           "rgba(230,109,180,0.6)",
           "rgba(103,201,199,0.6)",
           "rgba(140,179,212,0.6)",
           "rgba(103,201,199,0.6)",
           "rgba(155,178,128,0.6)",
           "rgba(103,201,199,0.6)",
           "rgba(236,145,233,0.6)",
           "rgba(106,127,195,0.6)",
           "rgba(192,237,231,0.6)",
           "rgba(130,223,216,0.6)",
           "rgba(151,197,112,0.6)",
           "rgba(155,178,128,0.6)",
           "rgba(103,201,199,0.6)",
           "rgba(103,201,199,0.6)",
           "rgba(103,201,199,0.6)",
           "rgba(129,180,170,0.6)",
           "rgba(151,197,112,0.6)",
           "rgba(152,101,134,0.6)",
           "rgba(155,178,128,0.6)",
           "rgba(216,189,208,0.6)",
           "rgba(231,202,203,0.6)",
           "rgba(230,109,180,0.6)",
           "rgba(103,201,199,0.6)",
           "rgba(103,201,199,0.6)",
           "rgba(129,180,170,0.6)",
           "rgba(129,180,170,0.6)",
           "rgba(103,201,199,0.6)",
           "rgba(103,201,199,0.6)",
           "rgba(211,254,216,0.6)",
           "rgba(246,176,245,0.6)",
           "rgba(152,101,134,0.6)",
           "rgba(103,201,199,0.6)",
           "rgba(222,239,242,0.6)",
           "rgba(155,178,128,0.6)",
           "rgba(152,101,134,0.6)",
           "rgba(155,178,128,0.6)",
           "rgba(103,201,199,0.6)",
           "rgba(103,201,199,0.6)",
           "rgba(155,178,128,0.6)",
           "rgba(103,201,199,0.6)",
           "rgba(103,201,199,0.6)",
           "rgba(103,201,199,0.6)",
           "rgba(152,101,134,0.6)",
           "rgba(231,202,203,0.6)",
           "rgba(155,178,128,0.6)",
           "rgba(129,180,170,0.6)",
           "rgba(141,121,104,0.6)",
           "rgba(103,201,199,0.6)",
           "rgba(103,201,199,0.6)",
           "rgba(152,101,134,0.6)",
           "rgba(155,178,128,0.6)",
           "rgba(129,180,170,0.6)",
           "rgba(152,101,134,0.6)",
           "rgba(103,201,199,0.6)",
           "rgba(103,201,199,0.6)",
           "rgba(103,201,199,0.6)",
           "rgba(206,199,205,0.6)",
           "rgba(206,160,155,0.6)",
           "rgba(212,207,135,0.6)",
           "rgba(103,201,199,0.6)",
           "rgba(152,101,134,0.6)",
           "rgba(155,178,128,0.6)",
           "rgba(129,180,170,0.6)",
           "rgba(103,201,199,0.6)",
           "rgba(141,121,104,0.6)",
           "rgba(160,104,201,0.6)",
           "rgba(103,201,199,0.6)",
           "rgba(141,121,104,0.6)",
           "rgba(103,201,199,0.6)",
           "rgba(141,121,104,0.6)",
           "rgba(155,178,128,0.6)",
           "rgba(129,180,170,0.6)",
           "rgba(199,160,221,0.6)",
           "rgba(152,101,134,0.6)",
           "rgba(103,201,199,0.6)",
           "rgba(103,201,199,0.6)",
           "rgba(129,180,170,0.6)",
           "rgba(234,101,248,0.6)",
           "rgba(155,178,128,0.6)",
           "rgba(141,121,104,0.6)",
           "rgba(141,199,174,0.6)",
           "rgba(155,178,128,0.6)",
           "rgba(155,178,128,0.6)",
           "rgba(155,178,128,0.6)"
          ],
          "customdata": [
           "Winters 2025",
           "Ciesenski 2024",
           "Kemp 2024",
           "Kemp 2024",
           "Castagna 2024",
           "Cohn 2024",
           "Elster 2024",
           "Neumann 2024",
           "Međedovic 2024",
           "Roy 2023",
           "Joyner 2024",
           "Brislin 2024",
           "Shields 2024",
           "Shields 2024",
           "Alvarez-Voces 2024",
           "Tillem 2023",
           "Murray 2022",
           "Dugre 2023",
           "Pechorro 2023",
           "Payot 2022",
           "Hare 2022",
           "Colins  2022",
           "Gong 2022",
           "Sellbom 2022",
           "Drislane 2022",
           "Dugre 2022",
           "Wissenburg 2022",
           "Voulgaridou 2022",
           "Willoughby 2022",
           "Willoughby 2022",
           "Willoughby 2022",
           "Michielsen 2022",
           "Woerhle 2022",
           "Friedman 2021",
           "Lopez-Romero 2021",
           "Harrop 2021",
           "Sellbom 2021",
           "Byrd 2021",
           "Goulter 2021",
           "Gillespie 2021",
           "Hawes 2021",
           "Roy 2021",
           "Altikriti 2020",
           "Breaux 2020",
           "Breaux 2020",
           "Maneiro 2020",
           "Wang 2020",
           "Wang 2020",
           "Lehmann 2019",
           "Piehler 2019",
           "Docherty 2019",
           "Maneiro 2019",
           "Maneiro 2019",
           "Maneiro 2019",
           "Waller 2019",
           "Goulter 2019",
           "Colins  2018",
           "Byrd 2018",
           "Adjorlolo 2018",
           "Carre 2018",
           "Dubas  2018",
           "Driessen 2018",
           "Boduszek 2017",
           "Fanti 2017",
           "Barhight 2017",
           "Barhight 2017",
           "Hawes  2017",
           "Colins 2017",
           "Fanti 2017",
           "Krstic 2017",
           "Krstic 2017",
           "Krstic 2017",
           "Ray 2016",
           "Muratori 2016",
           "Wall 2016",
           "Andrade 2016",
           "Mokros 2015",
           "Dhingra 2015",
           "Neumann 2014",
           "Neumann 2014",
           "White 2014",
           "Pardini 2013",
           "Fanti 2013",
           "Fanti 2013",
           "Hawes 2013",
           "Kimonis 2011",
           "Nijhof 2011",
           "Nijhof 2011",
           "Neumann 2010",
           "Blonigen 2010",
           "Kimonis 2008",
           "Vitacco 2006",
           "Winters 2025",
           "Ciesenski 2024",
           "Kemp 2024",
           "Kemp 2024",
           "Castagna 2024",
           "Cohn 2024",
           "Elster 2024",
           "Neumann 2024",
           "Međedovic 2024",
           "Roy 2023",
           "Joyner 2024",
           "Brislin 2024",
           "Shields 2024",
           "Shields 2024",
           "Alvarez-Voces 2024",
           "Tillem 2023",
           "Murray 2022",
           "Dugre 2023",
           "Pechorro 2023",
           "Payot 2022",
           "Hare 2022",
           "Colins  2022",
           "Gong 2022",
           "Sellbom 2022",
           "Drislane 2022",
           "Dugre 2022",
           "Wissenburg 2022",
           "Voulgaridou 2022",
           "Willoughby 2022",
           "Willoughby 2022",
           "Willoughby 2022",
           "Michielsen 2022",
           "Woerhle 2022",
           "Friedman 2021",
           "Lopez-Romero 2021",
           "Harrop 2021",
           "Sellbom 2021",
           "Byrd 2021",
           "Goulter 2021",
           "Gillespie 2021",
           "Hawes 2021",
           "Roy 2021",
           "Altikriti 2020",
           "Breaux 2020",
           "Breaux 2020",
           "Maneiro 2020",
           "Wang 2020",
           "Wang 2020",
           "Lehmann 2019",
           "Piehler 2019",
           "Docherty 2019",
           "Maneiro 2019",
           "Maneiro 2019",
           "Maneiro 2019",
           "Waller 2019",
           "Goulter 2019",
           "Colins  2018",
           "Byrd 2018",
           "Adjorlolo 2018",
           "Carre 2018",
           "Dubas  2018",
           "Driessen 2018",
           "Boduszek 2017",
           "Fanti 2017",
           "Barhight 2017",
           "Barhight 2017",
           "Hawes  2017",
           "Colins 2017",
           "Fanti 2017",
           "Krstic 2017",
           "Krstic 2017",
           "Krstic 2017",
           "Ray 2016",
           "Muratori 2016",
           "Wall 2016",
           "Andrade 2016",
           "Mokros 2015",
           "Dhingra 2015",
           "Neumann 2014",
           "Neumann 2014",
           "White 2014",
           "Pardini 2013",
           "Fanti 2013",
           "Fanti 2013",
           "Hawes 2013",
           "Kimonis 2011",
           "Nijhof 2011",
           "Nijhof 2011",
           "Neumann 2010",
           "Blonigen 2010",
           "Kimonis 2008",
           "Vitacco 2006"
          ],
          "hovertemplate": "%{customdata}<extra></extra>",
          "source": [
           0,
           1,
           0,
           0,
           2,
           3,
           2,
           1,
           0,
           1,
           0,
           1,
           0,
           1,
           4,
           5,
           6,
           6,
           0,
           0,
           1,
           1,
           1,
           3,
           0,
           4,
           0,
           1,
           7,
           0,
           1,
           1,
           3,
           3,
           1,
           1,
           0,
           6,
           4,
           1,
           6,
           0,
           4,
           0,
           1,
           1,
           0,
           1,
           1,
           1,
           4,
           0,
           7,
           3,
           1,
           1,
           1,
           4,
           0,
           3,
           4,
           1,
           1,
           1,
           3,
           3,
           4,
           1,
           4,
           0,
           3,
           1,
           1,
           4,
           1,
           1,
           1,
           1,
           0,
           0,
           6,
           4,
           1,
           1,
           3,
           8,
           0,
           1,
           3,
           0,
           0,
           0,
           9,
           10,
           11,
           12,
           13,
           14,
           15,
           16,
           17,
           16,
           18,
           16,
           11,
           16,
           19,
           20,
           21,
           22,
           23,
           11,
           16,
           16,
           16,
           14,
           23,
           24,
           11,
           25,
           26,
           17,
           16,
           16,
           14,
           14,
           16,
           16,
           27,
           28,
           24,
           16,
           29,
           11,
           24,
           11,
           16,
           16,
           11,
           16,
           16,
           16,
           24,
           26,
           11,
           14,
           10,
           16,
           16,
           24,
           11,
           14,
           24,
           16,
           16,
           16,
           12,
           30,
           31,
           16,
           24,
           11,
           14,
           16,
           10,
           32,
           16,
           10,
           16,
           10,
           11,
           14,
           33,
           24,
           16,
           16,
           14,
           34,
           11,
           10,
           35,
           11,
           11,
           11
          ],
          "target": [
           9,
           10,
           11,
           12,
           13,
           14,
           15,
           16,
           17,
           16,
           18,
           16,
           11,
           16,
           19,
           20,
           21,
           22,
           23,
           11,
           16,
           16,
           16,
           14,
           23,
           24,
           11,
           25,
           26,
           17,
           16,
           16,
           14,
           14,
           16,
           16,
           27,
           28,
           24,
           16,
           29,
           11,
           24,
           11,
           16,
           16,
           11,
           16,
           16,
           16,
           24,
           26,
           11,
           14,
           10,
           16,
           16,
           24,
           11,
           14,
           24,
           16,
           16,
           16,
           12,
           30,
           31,
           16,
           24,
           11,
           14,
           16,
           10,
           32,
           16,
           10,
           16,
           10,
           11,
           14,
           33,
           24,
           16,
           16,
           14,
           34,
           11,
           10,
           35,
           11,
           11,
           11,
           36,
           37,
           36,
           36,
           36,
           38,
           39,
           40,
           36,
           38,
           38,
           41,
           36,
           38,
           36,
           36,
           36,
           42,
           38,
           38,
           38,
           36,
           38,
           36,
           43,
           44,
           38,
           38,
           36,
           36,
           36,
           38,
           36,
           45,
           38,
           46,
           36,
           36,
           47,
           36,
           36,
           38,
           48,
           38,
           38,
           38,
           38,
           38,
           36,
           46,
           37,
           40,
           38,
           47,
           49,
           38,
           36,
           36,
           38,
           38,
           47,
           46,
           38,
           36,
           38,
           38,
           50,
           40,
           39,
           46,
           46,
           46,
           36,
           38,
           40,
           37,
           51,
           36,
           38,
           38,
           51,
           37,
           40,
           40,
           38,
           38,
           38,
           38,
           38,
           38,
           38,
           38
          ],
          "value": [
           21,
           29,
           21,
           null,
           2,
           8,
           2,
           29,
           21,
           29,
           21,
           29,
           21,
           6,
           11,
           1,
           5,
           5,
           21,
           21,
           29,
           29,
           29,
           8,
           21,
           11,
           21,
           29,
           1,
           1,
           6,
           29,
           8,
           8,
           29,
           29,
           21,
           5,
           11,
           29,
           5,
           21,
           11,
           21,
           6,
           29,
           21,
           6,
           29,
           29,
           11,
           21,
           1,
           2,
           29,
           29,
           29,
           11,
           21,
           8,
           11,
           29,
           29,
           29,
           8,
           null,
           11,
           29,
           11,
           21,
           2,
           6,
           29,
           11,
           29,
           29,
           29,
           29,
           21,
           null,
           5,
           11,
           29,
           29,
           8,
           1,
           21,
           6,
           8,
           21,
           21,
           21,
           1,
           2,
           2,
           null,
           9,
           29,
           2,
           6,
           9,
           29,
           29,
           1,
           9,
           2,
           9,
           1,
           1,
           1,
           29,
           29,
           29,
           1,
           29,
           1,
           1,
           1,
           29,
           29,
           1,
           null,
           null,
           29,
           9,
           1,
           29,
           4,
           9,
           9,
           null,
           2,
           4,
           29,
           1,
           29,
           null,
           29,
           29,
           null,
           9,
           4,
           2,
           6,
           2,
           null,
           1,
           29,
           1,
           4,
           29,
           29,
           null,
           4,
           29,
           4,
           29,
           null,
           1,
           6,
           2,
           4,
           null,
           null,
           9,
           29,
           6,
           2,
           2,
           4,
           29,
           null,
           2,
           2,
           6,
           6,
           29,
           29,
           29,
           null,
           29,
           29,
           29,
           29
          ]
         },
         "node": {
          "align": "left",
          "color": [
           "rgba(223,138,113,0.6)",
           "rgba(122,164,234,0.6)",
           "rgba(162,249,205,0.6)",
           "rgba(151,168,234,0.6)",
           "rgba(176,160,216,0.6)",
           "rgba(167,193,233,0.6)",
           "rgba(174,209,157,0.6)",
           "rgba(110,198,252,0.6)",
           "rgba(134,138,202,0.6)",
           "rgba(239,138,255,0.6)",
           "rgba(141,121,104,0.6)",
           "rgba(155,178,128,0.6)",
           "rgba(206,199,205,0.6)",
           "rgba(172,140,195,0.6)",
           "rgba(129,180,170,0.6)",
           "rgba(169,110,222,0.6)",
           "rgba(103,201,199,0.6)",
           "rgba(230,109,180,0.6)",
           "rgba(140,179,212,0.6)",
           "rgba(236,145,233,0.6)",
           "rgba(106,127,195,0.6)",
           "rgba(192,237,231,0.6)",
           "rgba(130,223,216,0.6)",
           "rgba(151,197,112,0.6)",
           "rgba(152,101,134,0.6)",
           "rgba(216,189,208,0.6)",
           "rgba(231,202,203,0.6)",
           "rgba(211,254,216,0.6)",
           "rgba(246,176,245,0.6)",
           "rgba(222,239,242,0.6)",
           "rgba(206,160,155,0.6)",
           "rgba(212,207,135,0.6)",
           "rgba(160,104,201,0.6)",
           "rgba(199,160,221,0.6)",
           "rgba(234,101,248,0.6)",
           "rgba(141,199,174,0.6)",
           "rgba(100,221,130,0.6)",
           "rgba(126,228,142,0.6)",
           "rgba(175,202,123,0.6)",
           "rgba(138,110,239,0.6)",
           "rgba(174,237,249,0.6)",
           "rgba(238,234,214,0.6)",
           "rgba(247,201,121,0.6)",
           "rgba(123,226,235,0.6)",
           "rgba(239,150,219,0.6)",
           "rgba(108,248,204,0.6)",
           "rgba(211,115,217,0.6)",
           "rgba(212,170,254,0.6)",
           "rgba(173,129,113,0.6)",
           "rgba(212,108,170,0.6)",
           "rgba(251,157,241,0.6)",
           "rgba(158,230,229,0.6)"
          ],
          "label": [
           "factor analysis",
           "LCA",
           "computational modeling",
           "SEM",
           "growth model",
           "graph analysis",
           "fMRI task",
           "principal component analysis",
           "clustering ",
           "EF brain model (CFA with connectivity density as variable of interest) with interaction terms for CU and CP",
           "latent class analysis",
           "CFA",
           "multitrait–multimethod (MT-MM) design",
           "drift diffusion model",
           "structural equation model",
           "rescorla-wagner model",
           "latent profile analysis",
           "EFA (correlated)",
           "bass-ackwards confirmatory factor analysis with varimax rotation",
           "Univariate Latent Growth Curve Model",
           "minimum spanning tree analysis using the Kruskal algorithm",
           "whole brain analysis",
           "ROI analysis",
           "CFA (correlated)",
           "Latent Class Growth Analysis (LCGA)",
           "latent transition analysis (LPA at 2 time points)",
           "PCA (correlated)",
           "EFA (uncorrelated)",
           "Higher-order latent network factor model with Monte Carlo numerical integration",
           "second order CFA with Monte Carlo numerical integration",
           "correlated trait–correlated method (CT-CM)",
           "Latent Growth Curve Modeling (LGCM)",
           "Unconditional latent growth curve model",
           "computational EV and PE links to activation ",
           "model based clustering",
           "structural equation modeling",
           "regression",
           "chi squared test ",
           "correlation",
           "rm-ANOVA",
           "MANOVA",
           "R3STEP auxiliary command",
           "post hoc tests (kruskal-wallis)",
           "SEM with latent regression",
           "generalized estimating equations (GEE) models",
           "standard twin model",
           "ANOVA",
           "none",
           "bootstrapped likelihood ratio test (BLRT)",
           "MANCOVA",
           "latent trajectory interaction",
           "t-Test"
          ],
          "line": {
           "color": "black",
           "width": 0.9
          },
          "pad": 15,
          "thickness": 20
         },
         "type": "sankey"
        }
       ],
       "layout": {
        "font": {
         "size": 16.5
        },
        "height": 800,
        "hovermode": "x",
        "template": {
         "data": {
          "bar": [
           {
            "error_x": {
             "color": "#2a3f5f"
            },
            "error_y": {
             "color": "#2a3f5f"
            },
            "marker": {
             "line": {
              "color": "#E5ECF6",
              "width": 0.5
             },
             "pattern": {
              "fillmode": "overlay",
              "size": 10,
              "solidity": 0.2
             }
            },
            "type": "bar"
           }
          ],
          "barpolar": [
           {
            "marker": {
             "line": {
              "color": "#E5ECF6",
              "width": 0.5
             },
             "pattern": {
              "fillmode": "overlay",
              "size": 10,
              "solidity": 0.2
             }
            },
            "type": "barpolar"
           }
          ],
          "carpet": [
           {
            "aaxis": {
             "endlinecolor": "#2a3f5f",
             "gridcolor": "white",
             "linecolor": "white",
             "minorgridcolor": "white",
             "startlinecolor": "#2a3f5f"
            },
            "baxis": {
             "endlinecolor": "#2a3f5f",
             "gridcolor": "white",
             "linecolor": "white",
             "minorgridcolor": "white",
             "startlinecolor": "#2a3f5f"
            },
            "type": "carpet"
           }
          ],
          "choropleth": [
           {
            "colorbar": {
             "outlinewidth": 0,
             "ticks": ""
            },
            "type": "choropleth"
           }
          ],
          "contour": [
           {
            "colorbar": {
             "outlinewidth": 0,
             "ticks": ""
            },
            "colorscale": [
             [
              0,
              "#0d0887"
             ],
             [
              0.1111111111111111,
              "#46039f"
             ],
             [
              0.2222222222222222,
              "#7201a8"
             ],
             [
              0.3333333333333333,
              "#9c179e"
             ],
             [
              0.4444444444444444,
              "#bd3786"
             ],
             [
              0.5555555555555556,
              "#d8576b"
             ],
             [
              0.6666666666666666,
              "#ed7953"
             ],
             [
              0.7777777777777778,
              "#fb9f3a"
             ],
             [
              0.8888888888888888,
              "#fdca26"
             ],
             [
              1,
              "#f0f921"
             ]
            ],
            "type": "contour"
           }
          ],
          "contourcarpet": [
           {
            "colorbar": {
             "outlinewidth": 0,
             "ticks": ""
            },
            "type": "contourcarpet"
           }
          ],
          "heatmap": [
           {
            "colorbar": {
             "outlinewidth": 0,
             "ticks": ""
            },
            "colorscale": [
             [
              0,
              "#0d0887"
             ],
             [
              0.1111111111111111,
              "#46039f"
             ],
             [
              0.2222222222222222,
              "#7201a8"
             ],
             [
              0.3333333333333333,
              "#9c179e"
             ],
             [
              0.4444444444444444,
              "#bd3786"
             ],
             [
              0.5555555555555556,
              "#d8576b"
             ],
             [
              0.6666666666666666,
              "#ed7953"
             ],
             [
              0.7777777777777778,
              "#fb9f3a"
             ],
             [
              0.8888888888888888,
              "#fdca26"
             ],
             [
              1,
              "#f0f921"
             ]
            ],
            "type": "heatmap"
           }
          ],
          "histogram": [
           {
            "marker": {
             "pattern": {
              "fillmode": "overlay",
              "size": 10,
              "solidity": 0.2
             }
            },
            "type": "histogram"
           }
          ],
          "histogram2d": [
           {
            "colorbar": {
             "outlinewidth": 0,
             "ticks": ""
            },
            "colorscale": [
             [
              0,
              "#0d0887"
             ],
             [
              0.1111111111111111,
              "#46039f"
             ],
             [
              0.2222222222222222,
              "#7201a8"
             ],
             [
              0.3333333333333333,
              "#9c179e"
             ],
             [
              0.4444444444444444,
              "#bd3786"
             ],
             [
              0.5555555555555556,
              "#d8576b"
             ],
             [
              0.6666666666666666,
              "#ed7953"
             ],
             [
              0.7777777777777778,
              "#fb9f3a"
             ],
             [
              0.8888888888888888,
              "#fdca26"
             ],
             [
              1,
              "#f0f921"
             ]
            ],
            "type": "histogram2d"
           }
          ],
          "histogram2dcontour": [
           {
            "colorbar": {
             "outlinewidth": 0,
             "ticks": ""
            },
            "colorscale": [
             [
              0,
              "#0d0887"
             ],
             [
              0.1111111111111111,
              "#46039f"
             ],
             [
              0.2222222222222222,
              "#7201a8"
             ],
             [
              0.3333333333333333,
              "#9c179e"
             ],
             [
              0.4444444444444444,
              "#bd3786"
             ],
             [
              0.5555555555555556,
              "#d8576b"
             ],
             [
              0.6666666666666666,
              "#ed7953"
             ],
             [
              0.7777777777777778,
              "#fb9f3a"
             ],
             [
              0.8888888888888888,
              "#fdca26"
             ],
             [
              1,
              "#f0f921"
             ]
            ],
            "type": "histogram2dcontour"
           }
          ],
          "mesh3d": [
           {
            "colorbar": {
             "outlinewidth": 0,
             "ticks": ""
            },
            "type": "mesh3d"
           }
          ],
          "parcoords": [
           {
            "line": {
             "colorbar": {
              "outlinewidth": 0,
              "ticks": ""
             }
            },
            "type": "parcoords"
           }
          ],
          "pie": [
           {
            "automargin": true,
            "type": "pie"
           }
          ],
          "scatter": [
           {
            "fillpattern": {
             "fillmode": "overlay",
             "size": 10,
             "solidity": 0.2
            },
            "type": "scatter"
           }
          ],
          "scatter3d": [
           {
            "line": {
             "colorbar": {
              "outlinewidth": 0,
              "ticks": ""
             }
            },
            "marker": {
             "colorbar": {
              "outlinewidth": 0,
              "ticks": ""
             }
            },
            "type": "scatter3d"
           }
          ],
          "scattercarpet": [
           {
            "marker": {
             "colorbar": {
              "outlinewidth": 0,
              "ticks": ""
             }
            },
            "type": "scattercarpet"
           }
          ],
          "scattergeo": [
           {
            "marker": {
             "colorbar": {
              "outlinewidth": 0,
              "ticks": ""
             }
            },
            "type": "scattergeo"
           }
          ],
          "scattergl": [
           {
            "marker": {
             "colorbar": {
              "outlinewidth": 0,
              "ticks": ""
             }
            },
            "type": "scattergl"
           }
          ],
          "scattermap": [
           {
            "marker": {
             "colorbar": {
              "outlinewidth": 0,
              "ticks": ""
             }
            },
            "type": "scattermap"
           }
          ],
          "scattermapbox": [
           {
            "marker": {
             "colorbar": {
              "outlinewidth": 0,
              "ticks": ""
             }
            },
            "type": "scattermapbox"
           }
          ],
          "scatterpolar": [
           {
            "marker": {
             "colorbar": {
              "outlinewidth": 0,
              "ticks": ""
             }
            },
            "type": "scatterpolar"
           }
          ],
          "scatterpolargl": [
           {
            "marker": {
             "colorbar": {
              "outlinewidth": 0,
              "ticks": ""
             }
            },
            "type": "scatterpolargl"
           }
          ],
          "scatterternary": [
           {
            "marker": {
             "colorbar": {
              "outlinewidth": 0,
              "ticks": ""
             }
            },
            "type": "scatterternary"
           }
          ],
          "surface": [
           {
            "colorbar": {
             "outlinewidth": 0,
             "ticks": ""
            },
            "colorscale": [
             [
              0,
              "#0d0887"
             ],
             [
              0.1111111111111111,
              "#46039f"
             ],
             [
              0.2222222222222222,
              "#7201a8"
             ],
             [
              0.3333333333333333,
              "#9c179e"
             ],
             [
              0.4444444444444444,
              "#bd3786"
             ],
             [
              0.5555555555555556,
              "#d8576b"
             ],
             [
              0.6666666666666666,
              "#ed7953"
             ],
             [
              0.7777777777777778,
              "#fb9f3a"
             ],
             [
              0.8888888888888888,
              "#fdca26"
             ],
             [
              1,
              "#f0f921"
             ]
            ],
            "type": "surface"
           }
          ],
          "table": [
           {
            "cells": {
             "fill": {
              "color": "#EBF0F8"
             },
             "line": {
              "color": "white"
             }
            },
            "header": {
             "fill": {
              "color": "#C8D4E3"
             },
             "line": {
              "color": "white"
             }
            },
            "type": "table"
           }
          ]
         },
         "layout": {
          "annotationdefaults": {
           "arrowcolor": "#2a3f5f",
           "arrowhead": 0,
           "arrowwidth": 1
          },
          "autotypenumbers": "strict",
          "coloraxis": {
           "colorbar": {
            "outlinewidth": 0,
            "ticks": ""
           }
          },
          "colorscale": {
           "diverging": [
            [
             0,
             "#8e0152"
            ],
            [
             0.1,
             "#c51b7d"
            ],
            [
             0.2,
             "#de77ae"
            ],
            [
             0.3,
             "#f1b6da"
            ],
            [
             0.4,
             "#fde0ef"
            ],
            [
             0.5,
             "#f7f7f7"
            ],
            [
             0.6,
             "#e6f5d0"
            ],
            [
             0.7,
             "#b8e186"
            ],
            [
             0.8,
             "#7fbc41"
            ],
            [
             0.9,
             "#4d9221"
            ],
            [
             1,
             "#276419"
            ]
           ],
           "sequential": [
            [
             0,
             "#0d0887"
            ],
            [
             0.1111111111111111,
             "#46039f"
            ],
            [
             0.2222222222222222,
             "#7201a8"
            ],
            [
             0.3333333333333333,
             "#9c179e"
            ],
            [
             0.4444444444444444,
             "#bd3786"
            ],
            [
             0.5555555555555556,
             "#d8576b"
            ],
            [
             0.6666666666666666,
             "#ed7953"
            ],
            [
             0.7777777777777778,
             "#fb9f3a"
            ],
            [
             0.8888888888888888,
             "#fdca26"
            ],
            [
             1,
             "#f0f921"
            ]
           ],
           "sequentialminus": [
            [
             0,
             "#0d0887"
            ],
            [
             0.1111111111111111,
             "#46039f"
            ],
            [
             0.2222222222222222,
             "#7201a8"
            ],
            [
             0.3333333333333333,
             "#9c179e"
            ],
            [
             0.4444444444444444,
             "#bd3786"
            ],
            [
             0.5555555555555556,
             "#d8576b"
            ],
            [
             0.6666666666666666,
             "#ed7953"
            ],
            [
             0.7777777777777778,
             "#fb9f3a"
            ],
            [
             0.8888888888888888,
             "#fdca26"
            ],
            [
             1,
             "#f0f921"
            ]
           ]
          },
          "colorway": [
           "#636efa",
           "#EF553B",
           "#00cc96",
           "#ab63fa",
           "#FFA15A",
           "#19d3f3",
           "#FF6692",
           "#B6E880",
           "#FF97FF",
           "#FECB52"
          ],
          "font": {
           "color": "#2a3f5f"
          },
          "geo": {
           "bgcolor": "white",
           "lakecolor": "white",
           "landcolor": "#E5ECF6",
           "showlakes": true,
           "showland": true,
           "subunitcolor": "white"
          },
          "hoverlabel": {
           "align": "left"
          },
          "hovermode": "closest",
          "mapbox": {
           "style": "light"
          },
          "paper_bgcolor": "white",
          "plot_bgcolor": "#E5ECF6",
          "polar": {
           "angularaxis": {
            "gridcolor": "white",
            "linecolor": "white",
            "ticks": ""
           },
           "bgcolor": "#E5ECF6",
           "radialaxis": {
            "gridcolor": "white",
            "linecolor": "white",
            "ticks": ""
           }
          },
          "scene": {
           "xaxis": {
            "backgroundcolor": "#E5ECF6",
            "gridcolor": "white",
            "gridwidth": 2,
            "linecolor": "white",
            "showbackground": true,
            "ticks": "",
            "zerolinecolor": "white"
           },
           "yaxis": {
            "backgroundcolor": "#E5ECF6",
            "gridcolor": "white",
            "gridwidth": 2,
            "linecolor": "white",
            "showbackground": true,
            "ticks": "",
            "zerolinecolor": "white"
           },
           "zaxis": {
            "backgroundcolor": "#E5ECF6",
            "gridcolor": "white",
            "gridwidth": 2,
            "linecolor": "white",
            "showbackground": true,
            "ticks": "",
            "zerolinecolor": "white"
           }
          },
          "shapedefaults": {
           "line": {
            "color": "#2a3f5f"
           }
          },
          "ternary": {
           "aaxis": {
            "gridcolor": "white",
            "linecolor": "white",
            "ticks": ""
           },
           "baxis": {
            "gridcolor": "white",
            "linecolor": "white",
            "ticks": ""
           },
           "bgcolor": "#E5ECF6",
           "caxis": {
            "gridcolor": "white",
            "linecolor": "white",
            "ticks": ""
           }
          },
          "title": {
           "x": 0.05
          },
          "xaxis": {
           "automargin": true,
           "gridcolor": "white",
           "linecolor": "white",
           "ticks": "",
           "title": {
            "standoff": 15
           },
           "zerolinecolor": "white",
           "zerolinewidth": 2
          },
          "yaxis": {
           "automargin": true,
           "gridcolor": "white",
           "linecolor": "white",
           "ticks": "",
           "title": {
            "standoff": 15
           },
           "zerolinecolor": "white",
           "zerolinewidth": 2
          }
         }
        },
        "title": {
         "text": "Sankey Diagram for model types"
        },
        "width": 1500
       }
      }
     },
     "metadata": {},
     "output_type": "display_data"
    }
   ],
   "source": [
    "import plotly.graph_objects as go\n",
    "import pandas as pd\n",
    "\n",
    "# Assuming df_sankey_models_transformed already exists with 'gm', 'mit', 'oa'\n",
    "\n",
    "# 1. Create unique labels\n",
    "labels = list(pd.concat([\n",
    "    df_sankey_models_transformed['gm'], \n",
    "    df_sankey_models_transformed['mit'], \n",
    "    df_sankey_models_transformed['oa']\n",
    "]).unique())\n",
    "\n",
    "# 2. Map labels to indices\n",
    "label_map = {label: idx for idx, label in enumerate(labels)}\n",
    "\n",
    "# 3. Define sources, targets, and values\n",
    "sources = df_sankey_models_transformed['gm'].map(label_map).tolist() + \\\n",
    "          df_sankey_models_transformed['mit'].map(label_map).tolist()\n",
    "\n",
    "targets = df_sankey_models_transformed['mit'].map(label_map).tolist() + \\\n",
    "          df_sankey_models_transformed['oa'].map(label_map).tolist()\n",
    "\n",
    "values = df_sankey_models_transformed['gm_count'].tolist() + \\\n",
    "         df_sankey_models_transformed['oa_count'].tolist()\n",
    "\n",
    "# 4. Generate pastel colors\n",
    "import random\n",
    "\n",
    "def pastel_color():\n",
    "    r = lambda: random.randint(100, 255)\n",
    "    return f'rgba({r()},{r()},{r()},0.6)'\n",
    "\n",
    "label_to_color = {label: pastel_color() for label in labels}\n",
    "node_color_list = [label_to_color[label] for label in labels]\n",
    "\n",
    "# 5. Set link colors by source node's color (first half) and middle node (second half)\n",
    "link_colors = [label_to_color[df_sankey_models_transformed['gm'].iloc[i]] \n",
    "               for i in range(len(df_sankey_models_transformed))] + \\\n",
    "              [label_to_color[df_sankey_models_transformed['mit'].iloc[i]] \n",
    "               for i in range(len(df_sankey_models_transformed))]\n",
    "\n",
    "# 7. Create the figure\n",
    "fig = go.Figure(data=[go.Sankey(\n",
    "    node=dict(\n",
    "        pad=15,\n",
    "        thickness=20,\n",
    "        line=dict(color=\"black\", width=0.9),\n",
    "        label=labels,\n",
    "        color=node_color_list,\n",
    "        align=\"left\"\n",
    "    ),\n",
    "    link=dict(\n",
    "        source=sources,\n",
    "        target=targets,\n",
    "        value=values,\n",
    "        color=link_colors,\n",
    "        customdata=df_sankey_models_transformed['nameyear'].tolist() * 2,\n",
    "        hovertemplate='%{customdata}<extra></extra>'\n",
    "    )\n",
    ")])\n",
    "\n",
    "fig.update_layout(\n",
    "    title_text=\"Sankey Diagram for model types\",\n",
    "    font_size=16.5,\n",
    "    width=1500,\n",
    "    height=800,\n",
    "    hovermode='x'\n",
    ")\n",
    "fig.show()\n"
   ]
  },
  {
   "attachments": {
    "models_and_oa_sankey.png": {
     "image/png": "[encoded data removed]"
    }
   },
   "cell_type": "markdown",
   "id": "3a7f55da",
   "metadata": {},
   "source": [
    "![models_and_oa_sankey.png](attachment:models_and_oa_sankey.png)"
   ]
  },
  {
   "cell_type": "markdown",
   "id": "b41639b5",
   "metadata": {},
   "source": [
    "The rest of the sankeys I will make for a website that I host on github or smth. I want to move on to a little content analysis yay! the most common thing was LCA specifically LPA. let's have a closer look at those studies. \n"
   ]
  },
  {
   "cell_type": "code",
   "execution_count": null,
   "id": "553af695",
   "metadata": {},
   "outputs": [
    {
     "data": {
      "text/plain": [
       "general_model\n",
       "latent class analysis                                                          29\n",
       "factor analysis                                                                15\n",
       "growth model                                                                   11\n",
       "structural equation modeling                                                    8\n",
       "fMRI task                                                                       5\n",
       "factor analysis; latent class analysis                                          4\n",
       "computational modeling                                                          2\n",
       "graph analysis                                                                  1\n",
       "principal component analysis; factor analysis; latent class analysis            1\n",
       "factor analysis; principal component analysis; structural equation modeling     1\n",
       "factor analysis; structural equation modeling; latent class analysis            1\n",
       "clustering                                                                      1\n",
       "Name: count, dtype: int64"
      ]
     },
     "execution_count": 247,
     "metadata": {},
     "output_type": "execute_result"
    }
   ],
   "source": [
    "df['general_model'].value_counts() # 3 studies with no model data"
   ]
  },
  {
   "cell_type": "code",
   "execution_count": null,
   "id": "459dd77b",
   "metadata": {},
   "outputs": [
    {
     "data": {
      "text/plain": [
       "general_model\n",
       "latent class analysis                                                   29\n",
       "factor analysis; latent class analysis                                   4\n",
       "principal component analysis; factor analysis; latent class analysis     1\n",
       "factor analysis; structural equation modeling; latent class analysis     1\n",
       "Name: count, dtype: int64"
      ]
     },
     "execution_count": 271,
     "metadata": {},
     "output_type": "execute_result"
    }
   ],
   "source": [
    "#select all cases of the general model that contain 'latent class analysis'\n",
    "df_lca = df[df['general_model'].str.contains('latent class analysis', na=False)]\n",
    "df_lca['general_model'].value_counts() # 3 studies with no model data"
   ]
  },
  {
   "cell_type": "code",
   "execution_count": null,
   "id": "9f584092",
   "metadata": {},
   "outputs": [
    {
     "data": {
      "text/plain": [
       "assessment_tool\n",
       "Inventory of Callous-Unemotional Traits (ICU)                                                                            7\n",
       "Psychopathy Checklist: Revised (PCL-R)                                                                                   6\n",
       "Youth Psychopathic Traits Inventory (YPI)                                                                                4\n",
       "Levenson Self Report Psychopathy Rating scale (LSRP)                                                                     3\n",
       "Psychopathy Checklist: Revised (PCL-R); Self Report Psychopathy Scale (SRP)                                              2\n",
       "Child Problematic Traits Inventory (CPTI)                                                                                2\n",
       "Antisocial Process Screening Device (APSD)                                                                               1\n",
       "ABCD cu trait scale (SDQ/CBCL)                                                                                           1\n",
       "Proposed Specifiers for Conduct Disorder Scale (PSDC)                                                                    1\n",
       "Psychopathy Checklist: Revised (PCL-R); Self Report Psychopathy Scale (SRP); Psychopathic Personality Inventory (PPI)    1\n",
       "Child Psychopathy Scale (CPS); Inventory of Callous-Unemotional Traits (ICU)                                             1\n",
       "Dark Triad Dirty Dozen                                                                                                   1\n",
       "Psychopathic Personality Inventory (PPI)                                                                                 1\n",
       "Self Report Psychopathy Scale (SRP)                                                                                      1\n",
       "Psychopathic Personality Traits Scale (PPTS)                                                                             1\n",
       "Achenbach System of Empirically Based Assessment (ASEBA); Youth Psychopathic Traits Inventory (YPI)                      1\n",
       "Callous-Unemotional Traits—Brief Measure (3 items)                                                                       1\n",
       "Name: count, dtype: int64"
      ]
     },
     "execution_count": 267,
     "metadata": {},
     "output_type": "execute_result"
    }
   ],
   "source": [
    "df_lca['assessment_tool'].value_counts() # 3 studies with no model data"
   ]
  },
  {
   "cell_type": "code",
   "execution_count": null,
   "id": "07b8a62b",
   "metadata": {},
   "outputs": [
    {
     "name": "stderr",
     "output_type": "stream",
     "text": [
      "C:\\Users\\U727148\\AppData\\Local\\Temp\\ipykernel_37752\\679085752.py:3: SettingWithCopyWarning:\n",
      "\n",
      "\n",
      "A value is trying to be set on a copy of a slice from a DataFrame.\n",
      "Try using .loc[row_indexer,col_indexer] = value instead\n",
      "\n",
      "See the caveats in the documentation: https://pandas.pydata.org/pandas-docs/stable/user_guide/indexing.html#returning-a-view-versus-a-copy\n",
      "\n"
     ]
    },
    {
     "data": {
      "text/plain": [
       "assessment_tool\n",
       "Psychopathy Checklist: Revised (PCL-R)                      9\n",
       "Inventory of Callous-Unemotional Traits (ICU)               7\n",
       "Youth Psychopathic Traits Inventory (YPI)                   4\n",
       " Self Report Psychopathy Scale (SRP)                        3\n",
       "Levenson Self Report Psychopathy Rating scale (LSRP)        3\n",
       "Child Problematic Traits Inventory (CPTI)                   2\n",
       " Psychopathic Personality Inventory (PPI)                   1\n",
       "ABCD cu trait scale (SDQ/CBCL)                              1\n",
       "Antisocial Process Screening Device (APSD)                  1\n",
       "Proposed Specifiers for Conduct Disorder Scale (PSDC)       1\n",
       "Child Psychopathy Scale (CPS)                               1\n",
       " Inventory of Callous-Unemotional Traits (ICU)              1\n",
       "Dark Triad Dirty Dozen                                      1\n",
       "Psychopathic Personality Inventory (PPI)                    1\n",
       "Self Report Psychopathy Scale (SRP)                         1\n",
       "Psychopathic Personality Traits Scale (PPTS)                1\n",
       "Achenbach System of Empirically Based Assessment (ASEBA)    1\n",
       " Youth Psychopathic Traits Inventory (YPI)                  1\n",
       "Callous-Unemotional Traits—Brief Measure (3 items)          1\n",
       "Name: count, dtype: int64"
      ]
     },
     "execution_count": 272,
     "metadata": {},
     "output_type": "execute_result"
    }
   ],
   "source": [
    "#explode the assessment tool to get the different variables in the same column, stripping unnecessary spaces\n",
    "#df_lca['assessment_tool'] = df_lca['assessment_tool'].str.replace(' ', '') # remove spaces\n",
    "#df_lca['assessment_tool'] = df_lca['assessment_tool'].str.split(';')\n",
    "#df_lca_exploded = df_lca.explode('assessment_tool')\n",
    "df_lca_exploded['assessment_tool'].value_counts() \n"
   ]
  },
  {
   "cell_type": "code",
   "execution_count": null,
   "id": "14fea403",
   "metadata": {},
   "outputs": [
    {
     "data": {
      "text/plain": [
       "<Axes: xlabel='gender_percent_female', ylabel='Count'>"
      ]
     },
     "execution_count": 274,
     "metadata": {},
     "output_type": "execute_result"
    },
    {
     "data": {
      "image/png": "[encoded data removed]",
      "text/plain": [
       "<Figure size 640x480 with 1 Axes>"
      ]
     },
     "metadata": {},
     "output_type": "display_data"
    }
   ],
   "source": [
    "#making a histogram of gender distribution  \n",
    "sns.histplot(data=df_lca['gender_percent_female'], bins=10, kde=True)"
   ]
  },
  {
   "cell_type": "code",
   "execution_count": null,
   "id": "d88dffcd",
   "metadata": {},
   "outputs": [],
   "source": [
    "# REad in LCA outcomes\n",
    "df_lca_outcomes = pd.read_excel('LCA_outcomes.xlsx')"
   ]
  },
  {
   "cell_type": "code",
   "execution_count": null,
   "id": "d0c78ed5",
   "metadata": {},
   "outputs": [
    {
     "data": {
      "text/plain": [
       "solution (no. of groups and distribution)\n",
       "4    15\n",
       "3    11\n",
       "5     7\n",
       "2     2\n",
       "0     1\n",
       "Name: count, dtype: int64"
      ]
     },
     "execution_count": 297,
     "metadata": {},
     "output_type": "execute_result"
    }
   ],
   "source": [
    "df_lca_outcomes['solution (no. of groups and distribution)'].value_counts()"
   ]
  },
  {
   "cell_type": "code",
   "execution_count": null,
   "id": "75eba0e1",
   "metadata": {},
   "outputs": [
    {
     "data": {
      "image/png": "[encoded data removed]",
      "text/plain": [
       "<Figure size 1200x600 with 1 Axes>"
      ]
     },
     "metadata": {},
     "output_type": "display_data"
    }
   ],
   "source": [
    "#MAKE A barplot of the group solutions stacked by institutional sample\n",
    "\n",
    "# Simple countplot of the regions\n",
    "plt.figure(figsize=(12, 6))\n",
    "sns.countplot(data=df_lca_outcomes, x='solution (no. of groups and distribution)', order=df_lca_outcomes['solution (no. of groups and distribution)'].value_counts().index, hue=df_lca_outcomes['number_of_predictors'], palette='Set2')\n",
    "\n",
    "# Add title and axis labels\n",
    "plt.title('Count of group solutions', fontsize=14)\n",
    "plt.xlabel('Number of groups', fontsize=12)\n",
    "plt.ylabel('Count', fontsize=12)\n",
    "\n",
    "# Remove grid for a cleaner look\n",
    "plt.grid(False)\n",
    "\n",
    "# Get region counts\n",
    "#institution_counts = df_lca_outcomes['institutional_sample'].value_counts()\n",
    "\n",
    "\n",
    "# Create custom legend labels\n",
    "#legend_labels = [f\"{region}: {count}\" for region, count in zip(region_counts.index, region_counts.values)]\n",
    "\n",
    "# Add legend\n",
    "plt.legend(fontsize=10, title='Counts of predictor var', loc='upper right')\n",
    "\n",
    "# Adjust layout\n",
    "plt.tight_layout()\n",
    "\n",
    "# Show the pl\n",
    "plt.show()\n"
   ]
  },
  {
   "cell_type": "code",
   "execution_count": null,
   "id": "cc5a3a1b",
   "metadata": {},
   "outputs": [
    {
     "data": {
      "text/plain": [
       "number_of_predictors\n",
       "1    24\n",
       "2     9\n",
       "3     2\n",
       "7     1\n",
       "4     1\n",
       "Name: count, dtype: int64"
      ]
     },
     "execution_count": 310,
     "metadata": {},
     "output_type": "execute_result"
    }
   ],
   "source": [
    "#subsetting for all studies with 4 groups\n",
    "df_lca_outcomes['number_of_predictors'].value_counts() # 3 studies with no model data"
   ]
  },
  {
   "cell_type": "code",
   "execution_count": null,
   "id": "aee9ebad",
   "metadata": {},
   "outputs": [
    {
     "data": {
      "text/html": [
       "<div>\n",
       "<style scoped>\n",
       "    .dataframe tbody tr th:only-of-type {\n",
       "        vertical-align: middle;\n",
       "    }\n",
       "\n",
       "    .dataframe tbody tr th {\n",
       "        vertical-align: top;\n",
       "    }\n",
       "\n",
       "    .dataframe thead th {\n",
       "        text-align: right;\n",
       "    }\n",
       "</style>\n",
       "<table border=\"1\" class=\"dataframe\">\n",
       "  <thead>\n",
       "    <tr style=\"text-align: right;\">\n",
       "      <th></th>\n",
       "      <th>nameyear</th>\n",
       "      <th>region</th>\n",
       "      <th>age_mean</th>\n",
       "      <th>sample size</th>\n",
       "      <th>gender distr. (% f)</th>\n",
       "      <th>psychopathic or CU trait</th>\n",
       "      <th>predictor (Scale)</th>\n",
       "      <th>Unnamed: 7</th>\n",
       "      <th>predictor (additional variables)</th>\n",
       "      <th>outcome variables</th>\n",
       "      <th>model</th>\n",
       "      <th>solution (no. of groups and distribution)</th>\n",
       "      <th>group names</th>\n",
       "      <th>comments</th>\n",
       "    </tr>\n",
       "  </thead>\n",
       "  <tbody>\n",
       "  </tbody>\n",
       "</table>\n",
       "</div>"
      ],
      "text/plain": [
       "Empty DataFrame\n",
       "Columns: [nameyear, region, age_mean, sample size, gender distr. (% f), psychopathic or CU trait, predictor (Scale), Unnamed: 7, predictor (additional variables), outcome variables, model, solution (no. of groups and distribution), group names, comments]\n",
       "Index: []"
      ]
     },
     "execution_count": 294,
     "metadata": {},
     "output_type": "execute_result"
    }
   ],
   "source": [
    "four"
   ]
  }
 ],
 "metadata": {
  "kernelspec": {
   "display_name": "pymc_env",
   "language": "python",
   "name": "python3"
  },
  "language_info": {
   "codemirror_mode": {
    "name": "ipython",
    "version": 3
   },
   "file_extension": ".py",
   "mimetype": "text/x-python",
   "name": "python",
   "nbconvert_exporter": "python",
   "pygments_lexer": "ipython3",
   "version": "3.12.7"
  }
 },
 "nbformat": 4,
 "nbformat_minor": 5
}
