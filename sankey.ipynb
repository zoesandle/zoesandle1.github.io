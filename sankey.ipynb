{
 "cells": [
  {
   "cell_type": "markdown",
   "id": "9aa45f8f",
   "metadata": {},
   "source": [
    "## Jupyter Book\n"
   ]
  },
  {
   "cell_type": "code",
   "execution_count": 29,
   "id": "754d5901",
   "metadata": {},
   "outputs": [],
   "source": [
    "### read in data and activate the environmentimport pandas as pd\n",
    "import numpy as np\n",
    "import matplotlib.pyplot as plt\n",
    "import seaborn as sns\n",
    "import statsmodels.api as sm\n",
    "import statsmodels.formula.api as smf\n",
    "import pandas as pd\n",
    "import plotly.graph_objects as go\n",
    "\n",
    "#setting wd to where the data is\n",
    "import os\n",
    "os.chdir('C:/Users/U727148/Desktop/DATA/REVIEW/')"
   ]
  },
  {
   "cell_type": "code",
   "execution_count": 30,
   "id": "b387bda7",
   "metadata": {},
   "outputs": [],
   "source": [
    "df_sankey_models_transformed = pd.read_excel('dfsankeymodels_updated_20250424.xlsx')"
   ]
  },
  {
   "cell_type": "code",
   "execution_count": 31,
   "id": "debf1e77",
   "metadata": {},
   "outputs": [
    {
     "data": {
      "application/vnd.plotly.v1+json": {
       "config": {
        "plotlyServerURL": "https://plot.ly"
       },
       "data": [
        {
         "link": {
          "color": [
           "rgba(244,187,237,0.6)",
           "rgba(157,149,112,0.6)",
           "rgba(244,187,237,0.6)",
           "rgba(244,187,237,0.6)",
           "rgba(227,185,255,0.6)",
           "rgba(192,221,147,0.6)",
           "rgba(227,185,255,0.6)",
           "rgba(157,149,112,0.6)",
           "rgba(244,187,237,0.6)",
           "rgba(157,149,112,0.6)",
           "rgba(244,187,237,0.6)",
           "rgba(157,149,112,0.6)",
           "rgba(244,187,237,0.6)",
           "rgba(157,149,112,0.6)",
           "rgba(232,251,124,0.6)",
           "rgba(166,111,204,0.6)",
           "rgba(229,244,155,0.6)",
           "rgba(229,244,155,0.6)",
           "rgba(244,187,237,0.6)",
           "rgba(244,187,237,0.6)",
           "rgba(157,149,112,0.6)",
           "rgba(157,149,112,0.6)",
           "rgba(157,149,112,0.6)",
           "rgba(192,221,147,0.6)",
           "rgba(244,187,237,0.6)",
           "rgba(232,251,124,0.6)",
           "rgba(244,187,237,0.6)",
           "rgba(157,149,112,0.6)",
           "rgba(162,126,168,0.6)",
           "rgba(244,187,237,0.6)",
           "rgba(157,149,112,0.6)",
           "rgba(157,149,112,0.6)",
           "rgba(192,221,147,0.6)",
           "rgba(192,221,147,0.6)",
           "rgba(157,149,112,0.6)",
           "rgba(157,149,112,0.6)",
           "rgba(244,187,237,0.6)",
           "rgba(229,244,155,0.6)",
           "rgba(232,251,124,0.6)",
           "rgba(157,149,112,0.6)",
           "rgba(229,244,155,0.6)",
           "rgba(244,187,237,0.6)",
           "rgba(232,251,124,0.6)",
           "rgba(244,187,237,0.6)",
           "rgba(157,149,112,0.6)",
           "rgba(157,149,112,0.6)",
           "rgba(244,187,237,0.6)",
           "rgba(157,149,112,0.6)",
           "rgba(157,149,112,0.6)",
           "rgba(157,149,112,0.6)",
           "rgba(232,251,124,0.6)",
           "rgba(244,187,237,0.6)",
           "rgba(162,126,168,0.6)",
           "rgba(192,221,147,0.6)",
           "rgba(157,149,112,0.6)",
           "rgba(157,149,112,0.6)",
           "rgba(157,149,112,0.6)",
           "rgba(232,251,124,0.6)",
           "rgba(244,187,237,0.6)",
           "rgba(192,221,147,0.6)",
           "rgba(232,251,124,0.6)",
           "rgba(157,149,112,0.6)",
           "rgba(157,149,112,0.6)",
           "rgba(157,149,112,0.6)",
           "rgba(192,221,147,0.6)",
           "rgba(192,221,147,0.6)",
           "rgba(232,251,124,0.6)",
           "rgba(157,149,112,0.6)",
           "rgba(232,251,124,0.6)",
           "rgba(244,187,237,0.6)",
           "rgba(192,221,147,0.6)",
           "rgba(157,149,112,0.6)",
           "rgba(157,149,112,0.6)",
           "rgba(232,251,124,0.6)",
           "rgba(157,149,112,0.6)",
           "rgba(157,149,112,0.6)",
           "rgba(157,149,112,0.6)",
           "rgba(157,149,112,0.6)",
           "rgba(244,187,237,0.6)",
           "rgba(244,187,237,0.6)",
           "rgba(229,244,155,0.6)",
           "rgba(232,251,124,0.6)",
           "rgba(157,149,112,0.6)",
           "rgba(157,149,112,0.6)",
           "rgba(192,221,147,0.6)",
           "rgba(100,188,236,0.6)",
           "rgba(244,187,237,0.6)",
           "rgba(157,149,112,0.6)",
           "rgba(192,221,147,0.6)",
           "rgba(244,187,237,0.6)",
           "rgba(244,187,237,0.6)",
           "rgba(244,187,237,0.6)",
           "rgba(243,116,102,0.6)",
           "rgba(120,246,185,0.6)",
           "rgba(236,146,164,0.6)",
           "rgba(211,195,211,0.6)",
           "rgba(154,204,232,0.6)",
           "rgba(228,162,188,0.6)",
           "rgba(227,175,109,0.6)",
           "rgba(124,222,186,0.6)",
           "rgba(130,156,251,0.6)",
           "rgba(124,222,186,0.6)",
           "rgba(184,101,237,0.6)",
           "rgba(124,222,186,0.6)",
           "rgba(236,146,164,0.6)",
           "rgba(124,222,186,0.6)",
           "rgba(142,100,218,0.6)",
           "rgba(128,206,235,0.6)",
           "rgba(188,254,243,0.6)",
           "rgba(130,181,243,0.6)",
           "rgba(230,131,160,0.6)",
           "rgba(236,146,164,0.6)",
           "rgba(124,222,186,0.6)",
           "rgba(124,222,186,0.6)",
           "rgba(124,222,186,0.6)",
           "rgba(228,162,188,0.6)",
           "rgba(230,131,160,0.6)",
           "rgba(244,140,199,0.6)",
           "rgba(236,146,164,0.6)",
           "rgba(166,115,134,0.6)",
           "rgba(219,243,184,0.6)",
           "rgba(130,156,251,0.6)",
           "rgba(124,222,186,0.6)",
           "rgba(124,222,186,0.6)",
           "rgba(228,162,188,0.6)",
           "rgba(228,162,188,0.6)",
           "rgba(124,222,186,0.6)",
           "rgba(124,222,186,0.6)",
           "rgba(197,208,187,0.6)",
           "rgba(192,203,178,0.6)",
           "rgba(244,140,199,0.6)",
           "rgba(124,222,186,0.6)",
           "rgba(103,163,196,0.6)",
           "rgba(236,146,164,0.6)",
           "rgba(244,140,199,0.6)",
           "rgba(236,146,164,0.6)",
           "rgba(124,222,186,0.6)",
           "rgba(124,222,186,0.6)",
           "rgba(236,146,164,0.6)",
           "rgba(124,222,186,0.6)",
           "rgba(124,222,186,0.6)",
           "rgba(124,222,186,0.6)",
           "rgba(244,140,199,0.6)",
           "rgba(219,243,184,0.6)",
           "rgba(236,146,164,0.6)",
           "rgba(228,162,188,0.6)",
           "rgba(120,246,185,0.6)",
           "rgba(124,222,186,0.6)",
           "rgba(124,222,186,0.6)",
           "rgba(244,140,199,0.6)",
           "rgba(236,146,164,0.6)",
           "rgba(228,162,188,0.6)",
           "rgba(244,140,199,0.6)",
           "rgba(124,222,186,0.6)",
           "rgba(124,222,186,0.6)",
           "rgba(124,222,186,0.6)",
           "rgba(211,195,211,0.6)",
           "rgba(120,117,194,0.6)",
           "rgba(167,121,209,0.6)",
           "rgba(124,222,186,0.6)",
           "rgba(244,140,199,0.6)",
           "rgba(236,146,164,0.6)",
           "rgba(228,162,188,0.6)",
           "rgba(124,222,186,0.6)",
           "rgba(120,246,185,0.6)",
           "rgba(211,166,146,0.6)",
           "rgba(124,222,186,0.6)",
           "rgba(120,246,185,0.6)",
           "rgba(124,222,186,0.6)",
           "rgba(120,246,185,0.6)",
           "rgba(236,146,164,0.6)",
           "rgba(228,162,188,0.6)",
           "rgba(113,218,140,0.6)",
           "rgba(244,140,199,0.6)",
           "rgba(124,222,186,0.6)",
           "rgba(124,222,186,0.6)",
           "rgba(228,162,188,0.6)",
           "rgba(219,202,187,0.6)",
           "rgba(236,146,164,0.6)",
           "rgba(120,246,185,0.6)",
           "rgba(135,236,235,0.6)",
           "rgba(236,146,164,0.6)",
           "rgba(236,146,164,0.6)",
           "rgba(236,146,164,0.6)"
          ],
          "customdata": [
           "Winters 2025",
           "Ciesenski 2024",
           "Kemp 2024",
           "Kemp 2024",
           "Castagna 2024",
           "Cohn 2024",
           "Elster 2024",
           "Neumann 2024",
           "Međedovic 2024",
           "Roy 2023",
           "Joyner 2024",
           "Brislin 2024",
           "Shields 2024",
           "Shields 2024",
           "Alvarez-Voces 2024",
           "Tillem 2023",
           "Murray 2022",
           "Dugre 2023",
           "Pechorro 2023",
           "Payot 2022",
           "Hare 2022",
           "Colins  2022",
           "Gong 2022",
           "Sellbom 2022",
           "Drislane 2022",
           "Dugre 2022",
           "Wissenburg 2022",
           "Voulgaridou 2022",
           "Willoughby 2022",
           "Willoughby 2022",
           "Willoughby 2022",
           "Michielsen 2022",
           "Woerhle 2022",
           "Friedman 2021",
           "Lopez-Romero 2021",
           "Harrop 2021",
           "Sellbom 2021",
           "Byrd 2021",
           "Goulter 2021",
           "Gillespie 2021",
           "Hawes 2021",
           "Roy 2021",
           "Altikriti 2020",
           "Breaux 2020",
           "Breaux 2020",
           "Maneiro 2020",
           "Wang 2020",
           "Wang 2020",
           "Lehmann 2019",
           "Piehler 2019",
           "Docherty 2019",
           "Maneiro 2019",
           "Maneiro 2019",
           "Maneiro 2019",
           "Waller 2019",
           "Goulter 2019",
           "Colins  2018",
           "Byrd 2018",
           "Adjorlolo 2018",
           "Carre 2018",
           "Dubas  2018",
           "Driessen 2018",
           "Boduszek 2017",
           "Fanti 2017",
           "Barhight 2017",
           "Barhight 2017",
           "Hawes  2017",
           "Colins 2017",
           "Fanti 2017",
           "Krstic 2017",
           "Krstic 2017",
           "Krstic 2017",
           "Ray 2016",
           "Muratori 2016",
           "Wall 2016",
           "Andrade 2016",
           "Mokros 2015",
           "Dhingra 2015",
           "Neumann 2014",
           "Neumann 2014",
           "White 2014",
           "Pardini 2013",
           "Fanti 2013",
           "Fanti 2013",
           "Hawes 2013",
           "Kimonis 2011",
           "Nijhof 2011",
           "Nijhof 2011",
           "Neumann 2010",
           "Blonigen 2010",
           "Kimonis 2008",
           "Vitacco 2006",
           "Winters 2025",
           "Ciesenski 2024",
           "Kemp 2024",
           "Kemp 2024",
           "Castagna 2024",
           "Cohn 2024",
           "Elster 2024",
           "Neumann 2024",
           "Međedovic 2024",
           "Roy 2023",
           "Joyner 2024",
           "Brislin 2024",
           "Shields 2024",
           "Shields 2024",
           "Alvarez-Voces 2024",
           "Tillem 2023",
           "Murray 2022",
           "Dugre 2023",
           "Pechorro 2023",
           "Payot 2022",
           "Hare 2022",
           "Colins  2022",
           "Gong 2022",
           "Sellbom 2022",
           "Drislane 2022",
           "Dugre 2022",
           "Wissenburg 2022",
           "Voulgaridou 2022",
           "Willoughby 2022",
           "Willoughby 2022",
           "Willoughby 2022",
           "Michielsen 2022",
           "Woerhle 2022",
           "Friedman 2021",
           "Lopez-Romero 2021",
           "Harrop 2021",
           "Sellbom 2021",
           "Byrd 2021",
           "Goulter 2021",
           "Gillespie 2021",
           "Hawes 2021",
           "Roy 2021",
           "Altikriti 2020",
           "Breaux 2020",
           "Breaux 2020",
           "Maneiro 2020",
           "Wang 2020",
           "Wang 2020",
           "Lehmann 2019",
           "Piehler 2019",
           "Docherty 2019",
           "Maneiro 2019",
           "Maneiro 2019",
           "Maneiro 2019",
           "Waller 2019",
           "Goulter 2019",
           "Colins  2018",
           "Byrd 2018",
           "Adjorlolo 2018",
           "Carre 2018",
           "Dubas  2018",
           "Driessen 2018",
           "Boduszek 2017",
           "Fanti 2017",
           "Barhight 2017",
           "Barhight 2017",
           "Hawes  2017",
           "Colins 2017",
           "Fanti 2017",
           "Krstic 2017",
           "Krstic 2017",
           "Krstic 2017",
           "Ray 2016",
           "Muratori 2016",
           "Wall 2016",
           "Andrade 2016",
           "Mokros 2015",
           "Dhingra 2015",
           "Neumann 2014",
           "Neumann 2014",
           "White 2014",
           "Pardini 2013",
           "Fanti 2013",
           "Fanti 2013",
           "Hawes 2013",
           "Kimonis 2011",
           "Nijhof 2011",
           "Nijhof 2011",
           "Neumann 2010",
           "Blonigen 2010",
           "Kimonis 2008",
           "Vitacco 2006"
          ],
          "hovertemplate": "%{customdata}<extra></extra>",
          "source": [
           0,
           1,
           0,
           0,
           2,
           3,
           2,
           1,
           0,
           1,
           0,
           1,
           0,
           1,
           4,
           5,
           6,
           6,
           0,
           0,
           1,
           1,
           1,
           3,
           0,
           4,
           0,
           1,
           7,
           0,
           1,
           1,
           3,
           3,
           1,
           1,
           0,
           6,
           4,
           1,
           6,
           0,
           4,
           0,
           1,
           1,
           0,
           1,
           1,
           1,
           4,
           0,
           7,
           3,
           1,
           1,
           1,
           4,
           0,
           3,
           4,
           1,
           1,
           1,
           3,
           3,
           4,
           1,
           4,
           0,
           3,
           1,
           1,
           4,
           1,
           1,
           1,
           1,
           0,
           0,
           6,
           4,
           1,
           1,
           3,
           8,
           0,
           1,
           3,
           0,
           0,
           0,
           9,
           10,
           11,
           12,
           13,
           14,
           15,
           16,
           17,
           16,
           18,
           16,
           11,
           16,
           19,
           20,
           21,
           22,
           23,
           11,
           16,
           16,
           16,
           14,
           23,
           24,
           11,
           25,
           26,
           17,
           16,
           16,
           14,
           14,
           16,
           16,
           27,
           28,
           24,
           16,
           29,
           11,
           24,
           11,
           16,
           16,
           11,
           16,
           16,
           16,
           24,
           26,
           11,
           14,
           10,
           16,
           16,
           24,
           11,
           14,
           24,
           16,
           16,
           16,
           12,
           30,
           31,
           16,
           24,
           11,
           14,
           16,
           10,
           32,
           16,
           10,
           16,
           10,
           11,
           14,
           33,
           24,
           16,
           16,
           14,
           34,
           11,
           10,
           35,
           11,
           11,
           11
          ],
          "target": [
           9,
           10,
           11,
           12,
           13,
           14,
           15,
           16,
           17,
           16,
           18,
           16,
           11,
           16,
           19,
           20,
           21,
           22,
           23,
           11,
           16,
           16,
           16,
           14,
           23,
           24,
           11,
           25,
           26,
           17,
           16,
           16,
           14,
           14,
           16,
           16,
           27,
           28,
           24,
           16,
           29,
           11,
           24,
           11,
           16,
           16,
           11,
           16,
           16,
           16,
           24,
           26,
           11,
           14,
           10,
           16,
           16,
           24,
           11,
           14,
           24,
           16,
           16,
           16,
           12,
           30,
           31,
           16,
           24,
           11,
           14,
           16,
           10,
           32,
           16,
           10,
           16,
           10,
           11,
           14,
           33,
           24,
           16,
           16,
           14,
           34,
           11,
           10,
           35,
           11,
           11,
           11,
           36,
           37,
           38,
           38,
           38,
           39,
           40,
           41,
           38,
           39,
           39,
           42,
           38,
           39,
           38,
           38,
           38,
           36,
           39,
           39,
           39,
           38,
           39,
           38,
           43,
           44,
           39,
           39,
           38,
           38,
           38,
           39,
           38,
           45,
           39,
           46,
           38,
           38,
           47,
           38,
           38,
           39,
           48,
           39,
           39,
           39,
           39,
           39,
           38,
           37,
           37,
           41,
           39,
           47,
           49,
           39,
           38,
           38,
           39,
           39,
           47,
           46,
           39,
           38,
           39,
           39,
           50,
           41,
           40,
           46,
           46,
           46,
           38,
           39,
           41,
           37,
           51,
           38,
           39,
           39,
           51,
           37,
           41,
           41,
           39,
           39,
           39,
           39,
           39,
           39,
           39,
           39
          ],
          "value": [
           21,
           29,
           21,
           null,
           2,
           8,
           2,
           29,
           21,
           29,
           21,
           29,
           21,
           6,
           11,
           1,
           5,
           5,
           21,
           21,
           29,
           29,
           29,
           8,
           21,
           11,
           21,
           29,
           1,
           1,
           6,
           29,
           8,
           8,
           29,
           29,
           21,
           5,
           11,
           29,
           5,
           21,
           11,
           21,
           6,
           29,
           21,
           6,
           29,
           29,
           11,
           21,
           1,
           2,
           29,
           29,
           29,
           11,
           21,
           8,
           11,
           29,
           29,
           29,
           8,
           null,
           11,
           29,
           11,
           21,
           2,
           6,
           29,
           11,
           29,
           29,
           29,
           29,
           21,
           null,
           5,
           11,
           29,
           29,
           8,
           1,
           21,
           6,
           8,
           21,
           21,
           21,
           1,
           2,
           2,
           null,
           9,
           29,
           2,
           6,
           9,
           29,
           29,
           1,
           9,
           2,
           9,
           1,
           1,
           1,
           29,
           29,
           29,
           1,
           29,
           1,
           1,
           1,
           29,
           29,
           1,
           null,
           null,
           29,
           9,
           1,
           29,
           4,
           9,
           9,
           null,
           2,
           4,
           29,
           1,
           29,
           null,
           29,
           29,
           null,
           9,
           4,
           2,
           6,
           2,
           null,
           1,
           29,
           1,
           4,
           29,
           29,
           null,
           4,
           29,
           4,
           29,
           null,
           1,
           6,
           2,
           4,
           null,
           null,
           9,
           29,
           6,
           2,
           2,
           4,
           29,
           null,
           2,
           2,
           6,
           6,
           29,
           29,
           29,
           null,
           29,
           29,
           29,
           29
          ]
         },
         "node": {
          "align": "left",
          "color": [
           "rgba(244,187,237,0.6)",
           "rgba(157,149,112,0.6)",
           "rgba(227,185,255,0.6)",
           "rgba(192,221,147,0.6)",
           "rgba(232,251,124,0.6)",
           "rgba(166,111,204,0.6)",
           "rgba(229,244,155,0.6)",
           "rgba(162,126,168,0.6)",
           "rgba(100,188,236,0.6)",
           "rgba(243,116,102,0.6)",
           "rgba(120,246,185,0.6)",
           "rgba(236,146,164,0.6)",
           "rgba(211,195,211,0.6)",
           "rgba(154,204,232,0.6)",
           "rgba(228,162,188,0.6)",
           "rgba(227,175,109,0.6)",
           "rgba(124,222,186,0.6)",
           "rgba(130,156,251,0.6)",
           "rgba(184,101,237,0.6)",
           "rgba(142,100,218,0.6)",
           "rgba(128,206,235,0.6)",
           "rgba(188,254,243,0.6)",
           "rgba(130,181,243,0.6)",
           "rgba(230,131,160,0.6)",
           "rgba(244,140,199,0.6)",
           "rgba(166,115,134,0.6)",
           "rgba(219,243,184,0.6)",
           "rgba(197,208,187,0.6)",
           "rgba(192,203,178,0.6)",
           "rgba(103,163,196,0.6)",
           "rgba(120,117,194,0.6)",
           "rgba(167,121,209,0.6)",
           "rgba(211,166,146,0.6)",
           "rgba(113,218,140,0.6)",
           "rgba(219,202,187,0.6)",
           "rgba(135,236,235,0.6)",
           "rgba(184,142,132,0.6)",
           "rgba(232,224,131,0.6)",
           "rgba(241,155,136,0.6)",
           "rgba(240,150,153,0.6)",
           "rgba(132,237,105,0.6)",
           "rgba(164,255,223,0.6)",
           "rgba(144,195,160,0.6)",
           "rgba(186,247,244,0.6)",
           "rgba(145,109,121,0.6)",
           "rgba(111,158,129,0.6)",
           "rgba(155,132,129,0.6)",
           "rgba(197,194,253,0.6)",
           "rgba(113,114,186,0.6)",
           "rgba(234,210,212,0.6)",
           "rgba(222,165,112,0.6)",
           "rgba(103,165,152,0.6)"
          ],
          "label": [
           "factor analysis",
           "LCA",
           "computational modeling",
           "SEM",
           "growth model",
           "graph analysis",
           "fMRI task",
           "principal component analysis",
           "clustering ",
           "EF brain model (CFA with connectivity density as variable of interest) with interaction terms for CU and CP",
           "latent class analysis",
           "CFA",
           "multitrait–multimethod (MT-MM) design",
           "drift diffusion model",
           "structural equation model",
           "rescorla-wagner model",
           "latent profile analysis",
           "EFA (correlated)",
           "bass-ackwards confirmatory factor analysis with varimax rotation",
           "Univariate Latent Growth Curve Model",
           "minimum spanning tree analysis using the Kruskal algorithm",
           "whole brain analysis",
           "ROI analysis",
           "CFA (correlated)",
           "Latent Class Growth Analysis (LCGA)",
           "latent transition analysis (LPA at 2 time points)",
           "PCA (correlated)",
           "EFA (uncorrelated)",
           "Higher-order latent network factor model with Monte Carlo numerical integration",
           "second order CFA with Monte Carlo numerical integration",
           "correlated trait–correlated method (CT-CM)",
           "Latent Growth Curve Modeling (LGCM)",
           "Unconditional latent growth curve model",
           "computational EV and PE links to activation ",
           "model based clustering",
           "structural equation modeling",
           "post hoc tests (kruskal-wallis)",
           "chi squared test ",
           "regression",
           "correlation",
           "rm-ANOVA",
           "MANOVA",
           "R3STEP auxiliary command",
           "SEM with latent regression",
           "generalized estimating equations (GEE) models",
           "standard twin model",
           "ANOVA",
           "none",
           "bootstrapped likelihood ratio test (BLRT)",
           "MANCOVA",
           "latent trajectory interaction",
           "t-Test"
          ],
          "line": {
           "color": "black",
           "width": 0.9
          },
          "pad": 15,
          "thickness": 20
         },
         "type": "sankey"
        }
       ],
       "layout": {
        "font": {
         "size": 16.5
        },
        "height": 800,
        "hovermode": "x",
        "template": {
         "data": {
          "bar": [
           {
            "error_x": {
             "color": "#2a3f5f"
            },
            "error_y": {
             "color": "#2a3f5f"
            },
            "marker": {
             "line": {
              "color": "#E5ECF6",
              "width": 0.5
             },
             "pattern": {
              "fillmode": "overlay",
              "size": 10,
              "solidity": 0.2
             }
            },
            "type": "bar"
           }
          ],
          "barpolar": [
           {
            "marker": {
             "line": {
              "color": "#E5ECF6",
              "width": 0.5
             },
             "pattern": {
              "fillmode": "overlay",
              "size": 10,
              "solidity": 0.2
             }
            },
            "type": "barpolar"
           }
          ],
          "carpet": [
           {
            "aaxis": {
             "endlinecolor": "#2a3f5f",
             "gridcolor": "white",
             "linecolor": "white",
             "minorgridcolor": "white",
             "startlinecolor": "#2a3f5f"
            },
            "baxis": {
             "endlinecolor": "#2a3f5f",
             "gridcolor": "white",
             "linecolor": "white",
             "minorgridcolor": "white",
             "startlinecolor": "#2a3f5f"
            },
            "type": "carpet"
           }
          ],
          "choropleth": [
           {
            "colorbar": {
             "outlinewidth": 0,
             "ticks": ""
            },
            "type": "choropleth"
           }
          ],
          "contour": [
           {
            "colorbar": {
             "outlinewidth": 0,
             "ticks": ""
            },
            "colorscale": [
             [
              0,
              "#0d0887"
             ],
             [
              0.1111111111111111,
              "#46039f"
             ],
             [
              0.2222222222222222,
              "#7201a8"
             ],
             [
              0.3333333333333333,
              "#9c179e"
             ],
             [
              0.4444444444444444,
              "#bd3786"
             ],
             [
              0.5555555555555556,
              "#d8576b"
             ],
             [
              0.6666666666666666,
              "#ed7953"
             ],
             [
              0.7777777777777778,
              "#fb9f3a"
             ],
             [
              0.8888888888888888,
              "#fdca26"
             ],
             [
              1,
              "#f0f921"
             ]
            ],
            "type": "contour"
           }
          ],
          "contourcarpet": [
           {
            "colorbar": {
             "outlinewidth": 0,
             "ticks": ""
            },
            "type": "contourcarpet"
           }
          ],
          "heatmap": [
           {
            "colorbar": {
             "outlinewidth": 0,
             "ticks": ""
            },
            "colorscale": [
             [
              0,
              "#0d0887"
             ],
             [
              0.1111111111111111,
              "#46039f"
             ],
             [
              0.2222222222222222,
              "#7201a8"
             ],
             [
              0.3333333333333333,
              "#9c179e"
             ],
             [
              0.4444444444444444,
              "#bd3786"
             ],
             [
              0.5555555555555556,
              "#d8576b"
             ],
             [
              0.6666666666666666,
              "#ed7953"
             ],
             [
              0.7777777777777778,
              "#fb9f3a"
             ],
             [
              0.8888888888888888,
              "#fdca26"
             ],
             [
              1,
              "#f0f921"
             ]
            ],
            "type": "heatmap"
           }
          ],
          "histogram": [
           {
            "marker": {
             "pattern": {
              "fillmode": "overlay",
              "size": 10,
              "solidity": 0.2
             }
            },
            "type": "histogram"
           }
          ],
          "histogram2d": [
           {
            "colorbar": {
             "outlinewidth": 0,
             "ticks": ""
            },
            "colorscale": [
             [
              0,
              "#0d0887"
             ],
             [
              0.1111111111111111,
              "#46039f"
             ],
             [
              0.2222222222222222,
              "#7201a8"
             ],
             [
              0.3333333333333333,
              "#9c179e"
             ],
             [
              0.4444444444444444,
              "#bd3786"
             ],
             [
              0.5555555555555556,
              "#d8576b"
             ],
             [
              0.6666666666666666,
              "#ed7953"
             ],
             [
              0.7777777777777778,
              "#fb9f3a"
             ],
             [
              0.8888888888888888,
              "#fdca26"
             ],
             [
              1,
              "#f0f921"
             ]
            ],
            "type": "histogram2d"
           }
          ],
          "histogram2dcontour": [
           {
            "colorbar": {
             "outlinewidth": 0,
             "ticks": ""
            },
            "colorscale": [
             [
              0,
              "#0d0887"
             ],
             [
              0.1111111111111111,
              "#46039f"
             ],
             [
              0.2222222222222222,
              "#7201a8"
             ],
             [
              0.3333333333333333,
              "#9c179e"
             ],
             [
              0.4444444444444444,
              "#bd3786"
             ],
             [
              0.5555555555555556,
              "#d8576b"
             ],
             [
              0.6666666666666666,
              "#ed7953"
             ],
             [
              0.7777777777777778,
              "#fb9f3a"
             ],
             [
              0.8888888888888888,
              "#fdca26"
             ],
             [
              1,
              "#f0f921"
             ]
            ],
            "type": "histogram2dcontour"
           }
          ],
          "mesh3d": [
           {
            "colorbar": {
             "outlinewidth": 0,
             "ticks": ""
            },
            "type": "mesh3d"
           }
          ],
          "parcoords": [
           {
            "line": {
             "colorbar": {
              "outlinewidth": 0,
              "ticks": ""
             }
            },
            "type": "parcoords"
           }
          ],
          "pie": [
           {
            "automargin": true,
            "type": "pie"
           }
          ],
          "scatter": [
           {
            "fillpattern": {
             "fillmode": "overlay",
             "size": 10,
             "solidity": 0.2
            },
            "type": "scatter"
           }
          ],
          "scatter3d": [
           {
            "line": {
             "colorbar": {
              "outlinewidth": 0,
              "ticks": ""
             }
            },
            "marker": {
             "colorbar": {
              "outlinewidth": 0,
              "ticks": ""
             }
            },
            "type": "scatter3d"
           }
          ],
          "scattercarpet": [
           {
            "marker": {
             "colorbar": {
              "outlinewidth": 0,
              "ticks": ""
             }
            },
            "type": "scattercarpet"
           }
          ],
          "scattergeo": [
           {
            "marker": {
             "colorbar": {
              "outlinewidth": 0,
              "ticks": ""
             }
            },
            "type": "scattergeo"
           }
          ],
          "scattergl": [
           {
            "marker": {
             "colorbar": {
              "outlinewidth": 0,
              "ticks": ""
             }
            },
            "type": "scattergl"
           }
          ],
          "scattermap": [
           {
            "marker": {
             "colorbar": {
              "outlinewidth": 0,
              "ticks": ""
             }
            },
            "type": "scattermap"
           }
          ],
          "scattermapbox": [
           {
            "marker": {
             "colorbar": {
              "outlinewidth": 0,
              "ticks": ""
             }
            },
            "type": "scattermapbox"
           }
          ],
          "scatterpolar": [
           {
            "marker": {
             "colorbar": {
              "outlinewidth": 0,
              "ticks": ""
             }
            },
            "type": "scatterpolar"
           }
          ],
          "scatterpolargl": [
           {
            "marker": {
             "colorbar": {
              "outlinewidth": 0,
              "ticks": ""
             }
            },
            "type": "scatterpolargl"
           }
          ],
          "scatterternary": [
           {
            "marker": {
             "colorbar": {
              "outlinewidth": 0,
              "ticks": ""
             }
            },
            "type": "scatterternary"
           }
          ],
          "surface": [
           {
            "colorbar": {
             "outlinewidth": 0,
             "ticks": ""
            },
            "colorscale": [
             [
              0,
              "#0d0887"
             ],
             [
              0.1111111111111111,
              "#46039f"
             ],
             [
              0.2222222222222222,
              "#7201a8"
             ],
             [
              0.3333333333333333,
              "#9c179e"
             ],
             [
              0.4444444444444444,
              "#bd3786"
             ],
             [
              0.5555555555555556,
              "#d8576b"
             ],
             [
              0.6666666666666666,
              "#ed7953"
             ],
             [
              0.7777777777777778,
              "#fb9f3a"
             ],
             [
              0.8888888888888888,
              "#fdca26"
             ],
             [
              1,
              "#f0f921"
             ]
            ],
            "type": "surface"
           }
          ],
          "table": [
           {
            "cells": {
             "fill": {
              "color": "#EBF0F8"
             },
             "line": {
              "color": "white"
             }
            },
            "header": {
             "fill": {
              "color": "#C8D4E3"
             },
             "line": {
              "color": "white"
             }
            },
            "type": "table"
           }
          ]
         },
         "layout": {
          "annotationdefaults": {
           "arrowcolor": "#2a3f5f",
           "arrowhead": 0,
           "arrowwidth": 1
          },
          "autotypenumbers": "strict",
          "coloraxis": {
           "colorbar": {
            "outlinewidth": 0,
            "ticks": ""
           }
          },
          "colorscale": {
           "diverging": [
            [
             0,
             "#8e0152"
            ],
            [
             0.1,
             "#c51b7d"
            ],
            [
             0.2,
             "#de77ae"
            ],
            [
             0.3,
             "#f1b6da"
            ],
            [
             0.4,
             "#fde0ef"
            ],
            [
             0.5,
             "#f7f7f7"
            ],
            [
             0.6,
             "#e6f5d0"
            ],
            [
             0.7,
             "#b8e186"
            ],
            [
             0.8,
             "#7fbc41"
            ],
            [
             0.9,
             "#4d9221"
            ],
            [
             1,
             "#276419"
            ]
           ],
           "sequential": [
            [
             0,
             "#0d0887"
            ],
            [
             0.1111111111111111,
             "#46039f"
            ],
            [
             0.2222222222222222,
             "#7201a8"
            ],
            [
             0.3333333333333333,
             "#9c179e"
            ],
            [
             0.4444444444444444,
             "#bd3786"
            ],
            [
             0.5555555555555556,
             "#d8576b"
            ],
            [
             0.6666666666666666,
             "#ed7953"
            ],
            [
             0.7777777777777778,
             "#fb9f3a"
            ],
            [
             0.8888888888888888,
             "#fdca26"
            ],
            [
             1,
             "#f0f921"
            ]
           ],
           "sequentialminus": [
            [
             0,
             "#0d0887"
            ],
            [
             0.1111111111111111,
             "#46039f"
            ],
            [
             0.2222222222222222,
             "#7201a8"
            ],
            [
             0.3333333333333333,
             "#9c179e"
            ],
            [
             0.4444444444444444,
             "#bd3786"
            ],
            [
             0.5555555555555556,
             "#d8576b"
            ],
            [
             0.6666666666666666,
             "#ed7953"
            ],
            [
             0.7777777777777778,
             "#fb9f3a"
            ],
            [
             0.8888888888888888,
             "#fdca26"
            ],
            [
             1,
             "#f0f921"
            ]
           ]
          },
          "colorway": [
           "#636efa",
           "#EF553B",
           "#00cc96",
           "#ab63fa",
           "#FFA15A",
           "#19d3f3",
           "#FF6692",
           "#B6E880",
           "#FF97FF",
           "#FECB52"
          ],
          "font": {
           "color": "#2a3f5f"
          },
          "geo": {
           "bgcolor": "white",
           "lakecolor": "white",
           "landcolor": "#E5ECF6",
           "showlakes": true,
           "showland": true,
           "subunitcolor": "white"
          },
          "hoverlabel": {
           "align": "left"
          },
          "hovermode": "closest",
          "mapbox": {
           "style": "light"
          },
          "paper_bgcolor": "white",
          "plot_bgcolor": "#E5ECF6",
          "polar": {
           "angularaxis": {
            "gridcolor": "white",
            "linecolor": "white",
            "ticks": ""
           },
           "bgcolor": "#E5ECF6",
           "radialaxis": {
            "gridcolor": "white",
            "linecolor": "white",
            "ticks": ""
           }
          },
          "scene": {
           "xaxis": {
            "backgroundcolor": "#E5ECF6",
            "gridcolor": "white",
            "gridwidth": 2,
            "linecolor": "white",
            "showbackground": true,
            "ticks": "",
            "zerolinecolor": "white"
           },
           "yaxis": {
            "backgroundcolor": "#E5ECF6",
            "gridcolor": "white",
            "gridwidth": 2,
            "linecolor": "white",
            "showbackground": true,
            "ticks": "",
            "zerolinecolor": "white"
           },
           "zaxis": {
            "backgroundcolor": "#E5ECF6",
            "gridcolor": "white",
            "gridwidth": 2,
            "linecolor": "white",
            "showbackground": true,
            "ticks": "",
            "zerolinecolor": "white"
           }
          },
          "shapedefaults": {
           "line": {
            "color": "#2a3f5f"
           }
          },
          "ternary": {
           "aaxis": {
            "gridcolor": "white",
            "linecolor": "white",
            "ticks": ""
           },
           "baxis": {
            "gridcolor": "white",
            "linecolor": "white",
            "ticks": ""
           },
           "bgcolor": "#E5ECF6",
           "caxis": {
            "gridcolor": "white",
            "linecolor": "white",
            "ticks": ""
           }
          },
          "title": {
           "x": 0.05
          },
          "xaxis": {
           "automargin": true,
           "gridcolor": "white",
           "linecolor": "white",
           "ticks": "",
           "title": {
            "standoff": 15
           },
           "zerolinecolor": "white",
           "zerolinewidth": 2
          },
          "yaxis": {
           "automargin": true,
           "gridcolor": "white",
           "linecolor": "white",
           "ticks": "",
           "title": {
            "standoff": 15
           },
           "zerolinecolor": "white",
           "zerolinewidth": 2
          }
         }
        },
        "title": {
         "text": "Sankey Diagram for model types"
        },
        "width": 1500
       }
      }
     },
     "metadata": {},
     "output_type": "display_data"
    }
   ],
   "source": [
    "import plotly.graph_objects as go\n",
    "import pandas as pd\n",
    "\n",
    "# Assuming df_sankey_models_transformed already exists with 'gm', 'mit', 'oa'\n",
    "\n",
    "# 1. Create unique labels\n",
    "labels = list(pd.concat([\n",
    "    df_sankey_models_transformed['gm'], \n",
    "    df_sankey_models_transformed['mit'], \n",
    "    df_sankey_models_transformed['oa']\n",
    "]).unique())\n",
    "\n",
    "# 2. Map labels to indices\n",
    "label_map = {label: idx for idx, label in enumerate(labels)}\n",
    "\n",
    "# 3. Define sources, targets, and values\n",
    "sources = df_sankey_models_transformed['gm'].map(label_map).tolist() + \\\n",
    "          df_sankey_models_transformed['mit'].map(label_map).tolist()\n",
    "\n",
    "targets = df_sankey_models_transformed['mit'].map(label_map).tolist() + \\\n",
    "          df_sankey_models_transformed['oa'].map(label_map).tolist()\n",
    "\n",
    "values = df_sankey_models_transformed['gm_count'].tolist() + \\\n",
    "         df_sankey_models_transformed['oa_count'].tolist()\n",
    "\n",
    "# 4. Generate pastel colors\n",
    "import random\n",
    "\n",
    "def pastel_color():\n",
    "    r = lambda: random.randint(100, 255)\n",
    "    return f'rgba({r()},{r()},{r()},0.6)'\n",
    "\n",
    "label_to_color = {label: pastel_color() for label in labels}\n",
    "node_color_list = [label_to_color[label] for label in labels]\n",
    "\n",
    "# 5. Set link colors by source node's color (first half) and middle node (second half)\n",
    "link_colors = [label_to_color[df_sankey_models_transformed['gm'].iloc[i]] \n",
    "               for i in range(len(df_sankey_models_transformed))] + \\\n",
    "              [label_to_color[df_sankey_models_transformed['mit'].iloc[i]] \n",
    "               for i in range(len(df_sankey_models_transformed))]\n",
    "\n",
    "# 7. Create the figure\n",
    "fig = go.Figure(data=[go.Sankey(\n",
    "    node=dict(\n",
    "        pad=15,\n",
    "        thickness=20,\n",
    "        line=dict(color=\"black\", width=0.9),\n",
    "        label=labels,\n",
    "        color=node_color_list,\n",
    "        align=\"left\"\n",
    "    ),\n",
    "    link=dict(\n",
    "        source=sources,\n",
    "        target=targets,\n",
    "        value=values,\n",
    "        color=link_colors,\n",
    "        customdata=df_sankey_models_transformed['nameyear'].tolist() * 2,\n",
    "        hovertemplate='%{customdata}<extra></extra>'\n",
    "    )\n",
    ")])\n",
    "\n",
    "fig.update_layout(\n",
    "    title_text=\"Sankey Diagram for model types\",\n",
    "    font_size=16.5,\n",
    "    width=1500,\n",
    "    height=800,\n",
    "    hovermode='x'\n",
    ")\n",
    "fig.show()\n",
    "\n",
    "fig.write_html(\"C:/Users/U727148/SSSP_ECE_poster/figures/sankey_models_plot.html\", include_plotlyjs=\"cdn\")"
   ]
  },
  {
   "cell_type": "markdown",
   "id": "aa45b7ac",
   "metadata": {},
   "source": [
    "Models Sankey plot embedding \n",
    "\n",
    "<iframe src=\"C:/Users/U727148/SSSP_ECE_poster/figures/sankey_models_plot.html\" width=\"100%\" height=\"600px\" style=\"border:none;\"></iframe>"
   ]
  }
 ],
 "metadata": {
  "kernelspec": {
   "display_name": "pymc_env",
   "language": "python",
   "name": "python3"
  },
  "language_info": {
   "codemirror_mode": {
    "name": "ipython",
    "version": 3
   },
   "file_extension": ".py",
   "mimetype": "text/x-python",
   "name": "python",
   "nbconvert_exporter": "python",
   "pygments_lexer": "ipython3",
   "version": "3.12.7"
  }
 },
 "nbformat": 4,
 "nbformat_minor": 5
}
